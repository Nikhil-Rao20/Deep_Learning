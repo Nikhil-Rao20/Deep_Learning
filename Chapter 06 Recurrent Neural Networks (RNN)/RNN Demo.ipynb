{
  "cells": [
    {
      "cell_type": "markdown",
      "metadata": {
        "id": "d6347669-2ddb-4b07-83b3-72505705c811"
      },
      "source": [
        "# RNN DEMO\n"
      ]
    },
    {
      "cell_type": "markdown",
      "metadata": {
        "id": "68b892a6-2fbb-429c-b0d0-68ed2356802a"
      },
      "source": [
        "## Using RNNs to classify sentiment on IMDB data\n",
        "For this exercise, we will train a \"vanilla\" RNN to predict the sentiment on IMDB reviews.  Our data consists of 25000 training sequences and 25000 test sequences.  The outcome is binary (positive/negative) and both outcomes are equally represented in both the training and the test set.\n",
        "\n",
        "Keras provides a convenient interface to load the data and immediately encode the words into integers (based on the most common words).  This will save us a lot of the drudgery that is usually involved when working with raw text.\n",
        "\n",
        "We will walk through the preparation of the data and the building of an RNN model.  Then it will be your turn to build your own models (and prepare the data how you see fit).\n"
      ]
    },
    {
      "cell_type": "code",
      "metadata": {
        "id": "758b074a-b143-491e-9c71-4e64426cfe0d"
      },
      "outputs": [],
      "source": [
        "from tensorflow import keras\n",
        "from keras.utils import pad_sequences\n",
        "from keras.models import Sequential\n",
        "from keras.layers import Dense, Embedding\n",
        "from keras.layers import SimpleRNN\n",
        "from keras.datasets import imdb\n",
        "from keras import initializers"
      ],
      "execution_count": 1
    },
    {
      "cell_type": "code",
      "metadata": {
        "id": "0e5284c0-6cdb-446f-91db-1eb5cc2da80a"
      },
      "outputs": [],
      "source": [
        "max_features = 20000  # This is used in loading the data, picks the most common (max_features) words\n",
        "maxlen = 30  # maximum length of a sequence - truncate after this\n",
        "batch_size = 32"
      ],
      "execution_count": 2
    },
    {
      "cell_type": "code",
      "metadata": {
        "colab": {
          "base_uri": "https://localhost:8080/"
        },
        "id": "f82d1a60-456b-46f6-ac2a-10c8ad6c90e6",
        "outputId": "12910ab2-8e54-4276-a93a-5c7fbefe63b1"
      },
      "outputs": [
        {
          "output_type": "stream",
          "name": "stdout",
          "text": [
            "Downloading data from https://storage.googleapis.com/tensorflow/tf-keras-datasets/imdb.npz\n",
            "17464789/17464789 [==============================] - 0s 0us/step\n",
            "25000 train sequences\n",
            "25000 test sequences\n"
          ]
        }
      ],
      "source": [
        "## Load in the data.  The function automatically tokenizes the text into distinct integers\n",
        "(x_train, y_train), (x_test, y_test) = imdb.load_data(num_words=max_features)\n",
        "print(len(x_train), 'train sequences')\n",
        "print(len(x_test), 'test sequences')"
      ],
      "execution_count": 3
    },
    {
      "cell_type": "code",
      "metadata": {
        "colab": {
          "base_uri": "https://localhost:8080/"
        },
        "id": "4554b255-5562-4449-9972-0a82e7999bf4",
        "outputId": "2849e61f-82c3-4801-affe-7cae85bae2de"
      },
      "outputs": [
        {
          "output_type": "stream",
          "name": "stdout",
          "text": [
            "x_train shape: (25000, 30)\n",
            "x_test shape: (25000, 30)\n"
          ]
        }
      ],
      "source": [
        "# This pads (or truncates) the sequences so that they are of the maximum length\n",
        "x_train = pad_sequences(x_train, maxlen=maxlen)\n",
        "x_test = pad_sequences(x_test, maxlen=maxlen)\n",
        "print('x_train shape:', x_train.shape)\n",
        "print('x_test shape:', x_test.shape)"
      ],
      "execution_count": 4
    },
    {
      "cell_type": "code",
      "metadata": {
        "colab": {
          "base_uri": "https://localhost:8080/"
        },
        "id": "1648370c-8705-41e6-89c6-6eac3fc7ec86",
        "outputId": "b56aec65-d909-4cae-96a9-ba63df1a2cca"
      },
      "outputs": [
        {
          "output_type": "execute_result",
          "data": {
            "text/plain": [
              "array([  219,   141,    35,   221,   956,    54,    13,    16,    11,\n",
              "        2714,    61,   322,   423,    12,    38,    76,    59,  1803,\n",
              "          72,     8, 10508,    23,     5,   967,    12,    38,    85,\n",
              "          62,   358,    99], dtype=int32)"
            ]
          },
          "metadata": {},
          "execution_count": 5
        }
      ],
      "source": [
        "x_train[123,:]  #Here's what an example sequence looks like"
      ],
      "execution_count": 5
    },
    {
      "cell_type": "markdown",
      "metadata": {
        "id": "b8031e5d-6d2e-4ae9-b950-262fa6190b78"
      },
      "source": [
        "## Keras layers for (Vanilla) RNNs\n",
        "\n",
        "In this exercise, we will not use pre-trained word vectors.  Rather we will learn an embedding as part of the Neural Network.  This is represented by the Embedding Layer below.\n",
        "\n",
        "### Embedding Layer\n",
        "`keras.layers.embeddings.Embedding(input_dim, output_dim, embeddings_initializer='uniform', embeddings_regularizer=None, activity_regularizer=None, embeddings_constraint=None, mask_zero=False, input_length=None)`\n",
        "\n",
        "- This layer maps each integer into a distinct (dense) word vector of length `output_dim`.\n",
        "- Can think of this as learning a word vector embedding \"on the fly\" rather than using an existing mapping (like GloVe)\n",
        "- The `input_dim` should be the size of the vocabulary.\n",
        "- The `input_length` specifies the length of the sequences that the network expects.\n",
        "\n",
        "### SimpleRNN Layer\n",
        "`keras.layers.recurrent.SimpleRNN(units, activation='tanh', use_bias=True, kernel_initializer='glorot_uniform', recurrent_initializer='orthogonal', bias_initializer='zeros', kernel_regularizer=None, recurrent_regularizer=None, bias_regularizer=None, activity_regularizer=None, kernel_constraint=None, recurrent_constraint=None, bias_constraint=None, dropout=0.0, recurrent_dropout=0.0)`\n",
        "\n",
        "- This is the basic RNN, where the output is also fed back as the \"hidden state\" to the next iteration.\n",
        "- The parameter `units` gives the dimensionality of the output (and therefore the hidden state).  Note that typically there will be another layer after the RNN mapping the (RNN) output to the network output.  So we should think of this value as the desired dimensionality of the hidden state and not necessarily the desired output of the network.\n",
        "- Recall that there are two sets of weights, one for the \"recurrent\" phase and the other for the \"kernel\" phase.  These can be configured separately in terms of their initialization, regularization, etc.\n",
        "\n",
        "\n",
        "\n",
        "\n"
      ]
    },
    {
      "cell_type": "code",
      "metadata": {
        "id": "a68f9bc0-0682-48fd-b396-718d288c72e0"
      },
      "outputs": [],
      "source": [
        "## Let's build a RNN\n",
        "\n",
        "rnn_hidden_dim = 5\n",
        "word_embedding_dim = 50\n",
        "model_rnn = Sequential()\n",
        "model_rnn.add(Embedding(max_features, word_embedding_dim))  #This layer takes each integer in the sequence and embeds it in a 50-dimensional vector\n",
        "model_rnn.add(SimpleRNN(rnn_hidden_dim,\n",
        "                    kernel_initializer=initializers.RandomNormal(stddev=0.001),\n",
        "                    recurrent_initializer=initializers.Identity(gain=1.0),\n",
        "                    activation='relu',\n",
        "                    input_shape=x_train.shape[1:]))\n",
        "\n",
        "model_rnn.add(Dense(1, activation='sigmoid'))"
      ],
      "execution_count": 6
    },
    {
      "cell_type": "code",
      "metadata": {
        "colab": {
          "base_uri": "https://localhost:8080/"
        },
        "id": "ed7356c2-28f5-47cf-9fc8-1137f14ff266",
        "outputId": "c9573bfe-a3ff-48cb-c7a1-ed6f05e3c633"
      },
      "outputs": [
        {
          "output_type": "stream",
          "name": "stdout",
          "text": [
            "Model: \"sequential\"\n",
            "_________________________________________________________________\n",
            " Layer (type)                Output Shape              Param #   \n",
            "=================================================================\n",
            " embedding (Embedding)       (None, None, 50)          1000000   \n",
            "                                                                 \n",
            " simple_rnn (SimpleRNN)      (None, 5)                 280       \n",
            "                                                                 \n",
            " dense (Dense)               (None, 1)                 6         \n",
            "                                                                 \n",
            "=================================================================\n",
            "Total params: 1,000,286\n",
            "Trainable params: 1,000,286\n",
            "Non-trainable params: 0\n",
            "_________________________________________________________________\n"
          ]
        }
      ],
      "source": [
        "## Note that most of the parameters come from the embedding layer\n",
        "model_rnn.summary()"
      ],
      "execution_count": 7
    },
    {
      "cell_type": "code",
      "metadata": {
        "id": "eec9a25a-6675-47f5-b5ed-12070e145f9e"
      },
      "outputs": [],
      "source": [
        "rmsprop = keras.optimizers.RMSprop(learning_rate = .0001)\n",
        "\n",
        "model_rnn.compile(loss='binary_crossentropy',\n",
        "              optimizer=rmsprop,\n",
        "              metrics=['accuracy'])"
      ],
      "execution_count": 8
    },
    {
      "cell_type": "code",
      "metadata": {
        "colab": {
          "base_uri": "https://localhost:8080/"
        },
        "id": "578fa17c-bee6-4475-ab3f-6ef8269b9f46",
        "outputId": "c7d68ad2-69cc-43d5-ce4f-eb80b3394108"
      },
      "outputs": [
        {
          "output_type": "stream",
          "name": "stdout",
          "text": [
            "Epoch 1/10\n",
            "782/782 [==============================] - 24s 29ms/step - loss: 0.6891 - accuracy: 0.5122 - val_loss: 0.6784 - val_accuracy: 0.5408\n",
            "Epoch 2/10\n",
            "782/782 [==============================] - 13s 17ms/step - loss: 0.6536 - accuracy: 0.5994 - val_loss: 0.6383 - val_accuracy: 0.6966\n",
            "Epoch 3/10\n",
            "782/782 [==============================] - 12s 16ms/step - loss: 0.6137 - accuracy: 0.7028 - val_loss: 0.6152 - val_accuracy: 0.6998\n",
            "Epoch 4/10\n",
            "782/782 [==============================] - 13s 16ms/step - loss: 0.5893 - accuracy: 0.7414 - val_loss: 0.5992 - val_accuracy: 0.7304\n",
            "Epoch 5/10\n",
            "782/782 [==============================] - 12s 16ms/step - loss: 0.5706 - accuracy: 0.7620 - val_loss: 0.5906 - val_accuracy: 0.7333\n",
            "Epoch 6/10\n",
            "782/782 [==============================] - 13s 16ms/step - loss: 0.5553 - accuracy: 0.7717 - val_loss: 0.5811 - val_accuracy: 0.7423\n",
            "Epoch 7/10\n",
            "782/782 [==============================] - 13s 16ms/step - loss: 0.5415 - accuracy: 0.7832 - val_loss: 0.5756 - val_accuracy: 0.7422\n",
            "Epoch 8/10\n",
            "782/782 [==============================] - 13s 17ms/step - loss: 0.5231 - accuracy: 0.7881 - val_loss: 0.5357 - val_accuracy: 0.7477\n",
            "Epoch 9/10\n",
            "782/782 [==============================] - 13s 17ms/step - loss: 0.4701 - accuracy: 0.7856 - val_loss: 0.5044 - val_accuracy: 0.7565\n",
            "Epoch 10/10\n",
            "782/782 [==============================] - 13s 16ms/step - loss: 0.4414 - accuracy: 0.7984 - val_loss: 0.4841 - val_accuracy: 0.7678\n"
          ]
        },
        {
          "output_type": "execute_result",
          "data": {
            "text/plain": [
              "<keras.callbacks.History at 0x7f697bae76d0>"
            ]
          },
          "metadata": {},
          "execution_count": 9
        }
      ],
      "source": [
        "model_rnn.fit(x_train, y_train,\n",
        "          batch_size=batch_size,\n",
        "          epochs=10,\n",
        "          validation_data=(x_test, y_test))"
      ],
      "execution_count": 9
    },
    {
      "cell_type": "code",
      "metadata": {
        "colab": {
          "base_uri": "https://localhost:8080/"
        },
        "id": "49e16e27-19f8-4013-8fa4-449c90b20ae8",
        "outputId": "6f4ec02b-efac-447e-9a2f-d7c45279dad6"
      },
      "outputs": [
        {
          "output_type": "stream",
          "name": "stdout",
          "text": [
            "782/782 [==============================] - 2s 3ms/step - loss: 0.4841 - accuracy: 0.7678\n",
            "Test score: 0.48414671421051025\n",
            "Test accuracy: 0.767799973487854\n"
          ]
        }
      ],
      "source": [
        "score, acc = model_rnn.evaluate(x_test, y_test,\n",
        "                            batch_size=batch_size)\n",
        "print('Test score:', score)\n",
        "print('Test accuracy:', acc)"
      ],
      "execution_count": 10
    },
    {
      "cell_type": "markdown",
      "metadata": {
        "id": "0d5f79e6-6933-4f5d-8d8a-9476534e632a"
      },
      "source": [
        "## Exercise\n",
        "\n",
        "In this exercise, we will illustrate:\n",
        "- Preparing the data to use sequences of length 80 rather than length 30.  Does it improve the performance?\n",
        "- Trying different values of the \"max_features\".  Does this  improve the performance?\n",
        "- Trying smaller and larger sizes of the RNN hidden dimension.  How does it affect the model performance?  How does it affect the run time?\n"
      ]
    },
    {
      "cell_type": "code",
      "metadata": {
        "id": "b6803ba5-21e6-431d-8ed4-d39a4e16e1ac"
      },
      "outputs": [],
      "source": [
        "max_features = 20000  # This is used in loading the data, picks the most common (max_features) words\n",
        "maxlen = 80  # maximum length of a sequence - truncate after this\n",
        "\n",
        "(x_train, y_train), (x_test, y_test) = imdb.load_data(num_words=max_features)\n",
        "\n",
        "x_train = pad_sequences(x_train, maxlen=maxlen)\n",
        "x_test = pad_sequences(x_test, maxlen=maxlen)"
      ],
      "execution_count": 11
    },
    {
      "cell_type": "code",
      "metadata": {
        "id": "d3b2ceaa-2fa5-4086-8bc3-d364d6272dc4"
      },
      "outputs": [],
      "source": [
        "rnn_hidden_dim = 5\n",
        "word_embedding_dim = 50\n",
        "model_rnn = Sequential()\n",
        "model_rnn.add(Embedding(max_features, word_embedding_dim))  #This layer takes each integer in the sequence\n",
        "model_rnn.add(SimpleRNN(rnn_hidden_dim,\n",
        "                    kernel_initializer=initializers.RandomNormal(stddev=0.001),\n",
        "                    recurrent_initializer=initializers.Identity(gain=1.0),\n",
        "                    activation='relu',\n",
        "                    input_shape=x_train.shape[1:]))\n",
        "\n",
        "model_rnn.add(Dense(1, activation='sigmoid'))"
      ],
      "execution_count": 12
    },
    {
      "cell_type": "code",
      "metadata": {
        "id": "671c1da6-217b-48ae-aaf8-93b221c8591f"
      },
      "outputs": [],
      "source": [
        "rmsprop = keras.optimizers.RMSprop(learning_rate = .0001)\n",
        "\n",
        "model_rnn.compile(loss='binary_crossentropy',\n",
        "              optimizer=rmsprop,\n",
        "              metrics=['accuracy'])"
      ],
      "execution_count": 13
    },
    {
      "cell_type": "code",
      "metadata": {
        "colab": {
          "base_uri": "https://localhost:8080/"
        },
        "id": "e8f776cc-e2c3-488f-a1a7-d897019d2455",
        "outputId": "faf58bc7-a3dc-4d41-b0c6-02bf5d481b0a"
      },
      "outputs": [
        {
          "output_type": "stream",
          "name": "stdout",
          "text": [
            "Epoch 1/10\n",
            "782/782 [==============================] - 25s 31ms/step - loss: 0.6786 - accuracy: 0.5318 - val_loss: 0.6356 - val_accuracy: 0.6038\n",
            "Epoch 2/10\n",
            "782/782 [==============================] - 24s 31ms/step - loss: 0.5967 - accuracy: 0.7222 - val_loss: 0.5843 - val_accuracy: 0.7408\n",
            "Epoch 3/10\n",
            "782/782 [==============================] - 25s 32ms/step - loss: 0.5507 - accuracy: 0.7864 - val_loss: 0.5641 - val_accuracy: 0.8010\n",
            "Epoch 4/10\n",
            "782/782 [==============================] - 25s 32ms/step - loss: 0.5223 - accuracy: 0.8132 - val_loss: 0.5414 - val_accuracy: 0.7902\n",
            "Epoch 5/10\n",
            "782/782 [==============================] - 24s 31ms/step - loss: 0.4983 - accuracy: 0.8278 - val_loss: 0.5317 - val_accuracy: 0.7899\n",
            "Epoch 6/10\n",
            "782/782 [==============================] - 24s 30ms/step - loss: 0.4784 - accuracy: 0.8402 - val_loss: 0.5076 - val_accuracy: 0.8107\n",
            "Epoch 7/10\n",
            "782/782 [==============================] - 24s 31ms/step - loss: 0.4617 - accuracy: 0.8469 - val_loss: 0.5223 - val_accuracy: 0.7951\n",
            "Epoch 8/10\n",
            "782/782 [==============================] - 23s 29ms/step - loss: 0.4472 - accuracy: 0.8530 - val_loss: 0.5069 - val_accuracy: 0.7975\n",
            "Epoch 9/10\n",
            "782/782 [==============================] - 26s 33ms/step - loss: 0.4344 - accuracy: 0.8576 - val_loss: 0.4877 - val_accuracy: 0.8071\n",
            "Epoch 10/10\n",
            "782/782 [==============================] - 24s 31ms/step - loss: 0.4228 - accuracy: 0.8604 - val_loss: 0.4948 - val_accuracy: 0.8051\n"
          ]
        },
        {
          "output_type": "execute_result",
          "data": {
            "text/plain": [
              "<keras.callbacks.History at 0x7f68f53923b0>"
            ]
          },
          "metadata": {},
          "execution_count": 14
        }
      ],
      "source": [
        "model_rnn.fit(x_train, y_train,\n",
        "          batch_size=batch_size,\n",
        "          epochs=10,\n",
        "          validation_data=(x_test, y_test))"
      ],
      "execution_count": 14
    },
    {
      "cell_type": "code",
      "metadata": {
        "id": "b51c86db-446f-46ca-b06b-32788d0245d9"
      },
      "outputs": [],
      "source": [
        "max_features = 5000  # This is used in loading the data, picks the most common (max_features) words\n",
        "maxlen = 80  # maximum length of a sequence - truncate after this\n",
        "\n",
        "(x_train, y_train), (x_test, y_test) = imdb.load_data(num_words=max_features)\n",
        "\n",
        "x_train = pad_sequences(x_train, maxlen=maxlen)\n",
        "x_test = pad_sequences(x_test, maxlen=maxlen)"
      ],
      "execution_count": 15
    },
    {
      "cell_type": "code",
      "metadata": {
        "id": "574e6607-ba53-4e93-81b9-f9ff4414ed54"
      },
      "outputs": [],
      "source": [
        "rnn_hidden_dim = 5\n",
        "word_embedding_dim = 20\n",
        "model_rnn = Sequential()\n",
        "model_rnn.add(Embedding(max_features, word_embedding_dim))  #This layer takes each integer in the sequence\n",
        "model_rnn.add(SimpleRNN(rnn_hidden_dim,\n",
        "                    kernel_initializer=initializers.RandomNormal(stddev=0.001),\n",
        "                    recurrent_initializer=initializers.Identity(gain=1.0),\n",
        "                    activation='relu',\n",
        "                    input_shape=x_train.shape[1:]))\n",
        "\n",
        "model_rnn.add(Dense(1, activation='sigmoid'))"
      ],
      "execution_count": 16
    },
    {
      "cell_type": "code",
      "metadata": {
        "id": "6611d7c8-9d61-45d6-9a32-ea9e7450ede3"
      },
      "outputs": [],
      "source": [
        "rmsprop = keras.optimizers.RMSprop(learning_rate = .0001)\n",
        "\n",
        "model_rnn.compile(loss='binary_crossentropy',\n",
        "              optimizer=rmsprop,\n",
        "              metrics=['accuracy'])"
      ],
      "execution_count": 17
    },
    {
      "cell_type": "code",
      "metadata": {
        "colab": {
          "base_uri": "https://localhost:8080/"
        },
        "id": "b1d1e60c-cd85-4495-80ee-f89aec62b5d7",
        "outputId": "3d5a8286-245e-4633-fdcf-3c79742143f0"
      },
      "outputs": [
        {
          "output_type": "stream",
          "name": "stdout",
          "text": [
            "Epoch 1/10\n",
            "782/782 [==============================] - 22s 26ms/step - loss: 0.6794 - accuracy: 0.5422 - val_loss: 0.6647 - val_accuracy: 0.7052\n",
            "Epoch 2/10\n",
            "782/782 [==============================] - 19s 24ms/step - loss: 0.6129 - accuracy: 0.7143 - val_loss: 0.5926 - val_accuracy: 0.7589\n",
            "Epoch 3/10\n",
            "782/782 [==============================] - 20s 26ms/step - loss: 0.5679 - accuracy: 0.7739 - val_loss: 0.5673 - val_accuracy: 0.7880\n",
            "Epoch 4/10\n",
            "782/782 [==============================] - 27s 35ms/step - loss: 0.5409 - accuracy: 0.7997 - val_loss: 0.5497 - val_accuracy: 0.7953\n",
            "Epoch 5/10\n",
            "782/782 [==============================] - 21s 27ms/step - loss: 0.5162 - accuracy: 0.8134 - val_loss: 0.5355 - val_accuracy: 0.7666\n",
            "Epoch 6/10\n",
            "782/782 [==============================] - 19s 25ms/step - loss: 0.4240 - accuracy: 0.8103 - val_loss: 0.4443 - val_accuracy: 0.7930\n",
            "Epoch 7/10\n",
            "782/782 [==============================] - 21s 27ms/step - loss: 0.3962 - accuracy: 0.8245 - val_loss: 0.4229 - val_accuracy: 0.8049\n",
            "Epoch 8/10\n",
            "782/782 [==============================] - 19s 25ms/step - loss: 0.3716 - accuracy: 0.8385 - val_loss: 0.4028 - val_accuracy: 0.8167\n",
            "Epoch 9/10\n",
            "782/782 [==============================] - 20s 26ms/step - loss: 0.3533 - accuracy: 0.8468 - val_loss: 0.4399 - val_accuracy: 0.7896\n",
            "Epoch 10/10\n",
            "782/782 [==============================] - 19s 24ms/step - loss: 0.3403 - accuracy: 0.8541 - val_loss: 0.3876 - val_accuracy: 0.8248\n"
          ]
        },
        {
          "output_type": "execute_result",
          "data": {
            "text/plain": [
              "<keras.callbacks.History at 0x7f68eca9f3d0>"
            ]
          },
          "metadata": {},
          "execution_count": 18
        }
      ],
      "source": [
        "model_rnn.fit(x_train, y_train,\n",
        "          batch_size=batch_size,\n",
        "          epochs=10,\n",
        "          validation_data=(x_test, y_test))"
      ],
      "execution_count": 18
    },
    {
      "cell_type": "code",
      "metadata": {
        "colab": {
          "base_uri": "https://localhost:8080/"
        },
        "id": "1c7a9183-3659-4602-9faa-ea43af7bdf0a",
        "outputId": "1bf299e4-5e96-46cd-914c-2704cb5d21a3"
      },
      "outputs": [
        {
          "output_type": "stream",
          "name": "stdout",
          "text": [
            "Epoch 1/10\n",
            "782/782 [==============================] - 21s 27ms/step - loss: 0.3300 - accuracy: 0.8586 - val_loss: 0.4475 - val_accuracy: 0.7960\n",
            "Epoch 2/10\n",
            "782/782 [==============================] - 19s 24ms/step - loss: 0.3215 - accuracy: 0.8623 - val_loss: 0.3732 - val_accuracy: 0.8315\n",
            "Epoch 3/10\n",
            "782/782 [==============================] - 20s 26ms/step - loss: 0.3123 - accuracy: 0.8686 - val_loss: 0.3677 - val_accuracy: 0.8349\n",
            "Epoch 4/10\n",
            "782/782 [==============================] - 19s 24ms/step - loss: 0.3062 - accuracy: 0.8707 - val_loss: 0.3650 - val_accuracy: 0.8345\n",
            "Epoch 5/10\n",
            "782/782 [==============================] - 21s 26ms/step - loss: 0.2994 - accuracy: 0.8748 - val_loss: 0.3640 - val_accuracy: 0.8354\n",
            "Epoch 6/10\n",
            "782/782 [==============================] - 19s 24ms/step - loss: 0.2945 - accuracy: 0.8768 - val_loss: 0.3810 - val_accuracy: 0.8304\n",
            "Epoch 7/10\n",
            "782/782 [==============================] - 21s 26ms/step - loss: 0.2898 - accuracy: 0.8805 - val_loss: 0.3574 - val_accuracy: 0.8408\n",
            "Epoch 8/10\n",
            "782/782 [==============================] - 19s 24ms/step - loss: 0.2862 - accuracy: 0.8813 - val_loss: 0.3685 - val_accuracy: 0.8362\n",
            "Epoch 9/10\n",
            "782/782 [==============================] - 20s 26ms/step - loss: 0.2824 - accuracy: 0.8830 - val_loss: 0.3614 - val_accuracy: 0.8398\n",
            "Epoch 10/10\n",
            "782/782 [==============================] - 19s 24ms/step - loss: 0.2796 - accuracy: 0.8851 - val_loss: 0.3573 - val_accuracy: 0.8433\n"
          ]
        },
        {
          "output_type": "execute_result",
          "data": {
            "text/plain": [
              "<keras.callbacks.History at 0x7f68f2a39f00>"
            ]
          },
          "metadata": {},
          "execution_count": 19
        }
      ],
      "source": [
        "# Out of curiosity, run for 10 more epochs\n",
        "model_rnn.fit(x_train, y_train,\n",
        "          batch_size=batch_size,\n",
        "          epochs=10,\n",
        "          validation_data=(x_test, y_test))"
      ],
      "execution_count": 19
    }
  ],
  "metadata": {
    "kernelspec": {
      "display_name": "Python",
      "language": "python",
      "name": "conda-env-python-py"
    },
    "language_info": {
      "name": ""
    },
    "colab": {
      "provenance": []
    }
  },
  "nbformat": 4,
  "nbformat_minor": 0
}