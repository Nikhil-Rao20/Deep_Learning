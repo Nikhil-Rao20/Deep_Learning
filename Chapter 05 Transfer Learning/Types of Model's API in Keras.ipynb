{
  "cells": [
    {
      "cell_type": "markdown",
      "id": "84902af4-a9b7-4d69-b4c6-881c24d1f2cb",
      "metadata": {
        "tags": [],
        "id": "84902af4-a9b7-4d69-b4c6-881c24d1f2cb"
      },
      "source": [
        "# **Introduction to Model APIs in Keras**\n"
      ]
    },
    {
      "cell_type": "markdown",
      "id": "ce8c2619-e91a-4017-aad1-b229aa750608",
      "metadata": {
        "id": "ce8c2619-e91a-4017-aad1-b229aa750608"
      },
      "source": [
        "In this lab, we will use a simple example to introduce you to different ways of creating models in Keras. \n"
      ]
    },
    {
      "cell_type": "markdown",
      "id": "3ab84007-4c13-45ef-aa7a-49c4a9c6206e",
      "metadata": {
        "id": "3ab84007-4c13-45ef-aa7a-49c4a9c6206e"
      },
      "source": [
        "## Objectives\n",
        "\n",
        "After completing this lab you will be able to:\n",
        "\n",
        "- __Understand__ different use cases for the Sequential and Functional APIs\n",
        "- __Build__ custom models using sub-classing in Keras\n"
      ]
    },
    {
      "cell_type": "markdown",
      "id": "de8a04ee-d7fd-4876-aa4c-5fd0f60c1646",
      "metadata": {
        "id": "de8a04ee-d7fd-4876-aa4c-5fd0f60c1646"
      },
      "source": [
        "## Setup\n"
      ]
    },
    {
      "cell_type": "markdown",
      "id": "999d07c6-a64f-4e29-9bf4-f06510935973",
      "metadata": {
        "id": "999d07c6-a64f-4e29-9bf4-f06510935973"
      },
      "source": [
        "For this lab, we will be using the following libraries:\n",
        "\n",
        "*   [`pandas`](https://pandas.pydata.org/?utm_medium=Exinfluencer&utm_source=Exinfluencer&utm_content=000026UJ&utm_term=10006555&utm_id=NA-SkillsNetwork-Channel-SkillsNetworkCoursesIBMML0187ENSkillsNetwork31430127-2021-01-01) for managing the data.\n",
        "*   [`numpy`](https://numpy.org/?utm_medium=Exinfluencer&utm_source=Exinfluencer&utm_content=000026UJ&utm_term=10006555&utm_id=NA-SkillsNetwork-Channel-SkillsNetworkCoursesIBMML0187ENSkillsNetwork31430127-2021-01-01) for mathematical operations.\n",
        "*   [`sklearn`](https://scikit-learn.org/stable/?utm_medium=Exinfluencer&utm_source=Exinfluencer&utm_content=000026UJ&utm_term=10006555&utm_id=NA-SkillsNetwork-Channel-SkillsNetworkCoursesIBMML0187ENSkillsNetwork31430127-2021-01-01) for machine learning and machine-learning-pipeline related functions.\n",
        "*   [`seaborn`](https://seaborn.pydata.org/?utm_medium=Exinfluencer&utm_source=Exinfluencer&utm_content=000026UJ&utm_term=10006555&utm_id=NA-SkillsNetwork-Channel-SkillsNetworkCoursesIBMML0187ENSkillsNetwork31430127-2021-01-01) for visualizing the data.\n",
        "*   [`matplotlib`](https://matplotlib.org/?utm_medium=Exinfluencer&utm_source=Exinfluencer&utm_content=000026UJ&utm_term=10006555&utm_id=NA-SkillsNetwork-Channel-SkillsNetworkCoursesIBMML0187ENSkillsNetwork31430127-2021-01-01) for additional plotting tools.\n",
        "*   [`keras`](https://keras.io/?utm_medium=Exinfluencer&utm_source=Exinfluencer&utm_content=000026UJ&utm_term=10006555&utm_id=NA-SkillsNetwork-Channel-SkillsNetworkCoursesIBMML0187ENSkillsNetwork31430127-2021-01-01) for loading datasets.\n"
      ]
    },
    {
      "cell_type": "markdown",
      "id": "0b233019-1d4b-4d85-b35d-b42a96b3a0f5",
      "metadata": {
        "id": "0b233019-1d4b-4d85-b35d-b42a96b3a0f5"
      },
      "source": [
        "### Importing Required Libraries\n"
      ]
    },
    {
      "cell_type": "code",
      "execution_count": 1,
      "id": "1a44ff15-1ab5-4a6a-99ed-55eedd4e423f",
      "metadata": {
        "colab": {
          "base_uri": "https://localhost:8080/"
        },
        "id": "1a44ff15-1ab5-4a6a-99ed-55eedd4e423f",
        "outputId": "67c2bbea-48f4-4a3a-9ec3-e195dcb0a790"
      },
      "outputs": [
        {
          "output_type": "stream",
          "name": "stdout",
          "text": [
            "2.12.0\n"
          ]
        }
      ],
      "source": [
        "import numpy as np\n",
        "from matplotlib import pyplot as plt\n",
        "import pandas as pd\n",
        "import numpy as np\n",
        "import keras\n",
        "import tensorflow as tf\n",
        "print(tf.__version__)\n",
        "from sklearn import preprocessing\n",
        "from tensorflow.keras.utils import to_categorical\n",
        "from tensorflow.keras import layers\n",
        "from keras.models import Sequential\n",
        "from keras.layers import Dense\n",
        "from keras.wrappers.scikit_learn import KerasClassifier\n",
        "from sklearn.model_selection import cross_val_score\n",
        "from sklearn.preprocessing import LabelEncoder\n",
        "from sklearn.model_selection import StratifiedKFold\n",
        "from sklearn.preprocessing import StandardScaler\n",
        "from sklearn.pipeline import Pipeline\n",
        "from sklearn.utils import shuffle\n",
        "from sklearn import metrics\n",
        "from sklearn.model_selection import train_test_split\n",
        "seed = 7\n",
        "np.random.seed(seed)\n"
      ]
    },
    {
      "cell_type": "markdown",
      "id": "9e95d0b0-36bb-49ad-bd84-38305bac56c2",
      "metadata": {
        "id": "9e95d0b0-36bb-49ad-bd84-38305bac56c2"
      },
      "source": [
        "## Types of Model APIs in Keras \n"
      ]
    },
    {
      "cell_type": "markdown",
      "id": "e7f92508-544d-4101-b142-d62dcba45e0c",
      "metadata": {
        "id": "e7f92508-544d-4101-b142-d62dcba45e0c"
      },
      "source": [
        "There are three main ways of creating models in Keras.\n"
      ]
    },
    {
      "cell_type": "markdown",
      "id": "a12a76f7-9523-4463-ae35-a34625093ae3",
      "metadata": {
        "id": "a12a76f7-9523-4463-ae35-a34625093ae3"
      },
      "source": [
        "* **The Sequential Model**: This is a straightforward way of stacking layers but is limited to having a single-input and single-output stack of layers. \n",
        "* **The Functional API**: This can support arbitrary model architectures, and is more flexible in enabling complex implementations.\n",
        "\n",
        "* **Model subclassing**: This is a way of implementing models from scratch. This is mainly used for out-of-the-box research use cases.\n"
      ]
    },
    {
      "cell_type": "markdown",
      "id": "4f01148a-3229-4606-a2b0-4bb612419496",
      "metadata": {
        "id": "4f01148a-3229-4606-a2b0-4bb612419496"
      },
      "source": [
        "In the rest of the lab, we will go through all of these ways of creating models, and walk through a use case for implementing and training each of these model architectures in Keras and Tensorflow. \n"
      ]
    },
    {
      "cell_type": "markdown",
      "id": "9a8d39ee-48f7-433d-9a8e-12a611d118a0",
      "metadata": {
        "id": "9a8d39ee-48f7-433d-9a8e-12a611d118a0"
      },
      "source": [
        "### __Task Definition__\n"
      ]
    },
    {
      "cell_type": "markdown",
      "id": "dc19026b-e930-4d73-a65c-4d63d714a0d7",
      "metadata": {
        "id": "dc19026b-e930-4d73-a65c-4d63d714a0d7"
      },
      "source": [
        "In this lab, we will be performing a simple classification task using the 'Sonar' dataset from UCI\n",
        "\n",
        "\n",
        "> The label associated with each record contains the letter \"R\" if the object is a rock and \"M\" if it is a mine (metal cylinder). The numbers in the labels are in increasing order of aspect angle, but they do not encode the angle directly.\n",
        "\n"
      ]
    },
    {
      "cell_type": "markdown",
      "id": "a337273e-f66e-43ae-9c34-afce25c6709c",
      "metadata": {
        "id": "a337273e-f66e-43ae-9c34-afce25c6709c"
      },
      "source": [
        "Let's start by reading in the dataset and defining our feature and target variables.\n"
      ]
    },
    {
      "cell_type": "code",
      "execution_count": 6,
      "id": "a74db411-7dde-4eab-990b-de764a35071a",
      "metadata": {
        "id": "a74db411-7dde-4eab-990b-de764a35071a"
      },
      "outputs": [],
      "source": [
        "dataframe = pd.read_csv(\"sonar.csv\", header=None)\n",
        "\n",
        "dataset = dataframe.values\n",
        "\n",
        "X = dataset[:, 0:60].astype(float)\n",
        "y = dataset[:, 60]\n",
        "\n",
        "# encode labels\n",
        "le = LabelEncoder()\n",
        "encoded_y = le.fit(y).transform(y)"
      ]
    },
    {
      "cell_type": "code",
      "source": [
        "dataframe"
      ],
      "metadata": {
        "colab": {
          "base_uri": "https://localhost:8080/",
          "height": 424
        },
        "id": "90EOX_lRprUQ",
        "outputId": "a22b8459-152d-4c0f-fd04-e91af9c45f7d"
      },
      "id": "90EOX_lRprUQ",
      "execution_count": 7,
      "outputs": [
        {
          "output_type": "execute_result",
          "data": {
            "text/plain": [
              "         0       1       2       3       4       5       6       7       8   \\\n",
              "0    0.0200  0.0371  0.0428  0.0207  0.0954  0.0986  0.1539  0.1601  0.3109   \n",
              "1    0.0453  0.0523  0.0843  0.0689  0.1183  0.2583  0.2156  0.3481  0.3337   \n",
              "2    0.0262  0.0582  0.1099  0.1083  0.0974  0.2280  0.2431  0.3771  0.5598   \n",
              "3    0.0100  0.0171  0.0623  0.0205  0.0205  0.0368  0.1098  0.1276  0.0598   \n",
              "4    0.0762  0.0666  0.0481  0.0394  0.0590  0.0649  0.1209  0.2467  0.3564   \n",
              "..      ...     ...     ...     ...     ...     ...     ...     ...     ...   \n",
              "203  0.0187  0.0346  0.0168  0.0177  0.0393  0.1630  0.2028  0.1694  0.2328   \n",
              "204  0.0323  0.0101  0.0298  0.0564  0.0760  0.0958  0.0990  0.1018  0.1030   \n",
              "205  0.0522  0.0437  0.0180  0.0292  0.0351  0.1171  0.1257  0.1178  0.1258   \n",
              "206  0.0303  0.0353  0.0490  0.0608  0.0167  0.1354  0.1465  0.1123  0.1945   \n",
              "207  0.0260  0.0363  0.0136  0.0272  0.0214  0.0338  0.0655  0.1400  0.1843   \n",
              "\n",
              "         9   ...      51      52      53      54      55      56      57  \\\n",
              "0    0.2111  ...  0.0027  0.0065  0.0159  0.0072  0.0167  0.0180  0.0084   \n",
              "1    0.2872  ...  0.0084  0.0089  0.0048  0.0094  0.0191  0.0140  0.0049   \n",
              "2    0.6194  ...  0.0232  0.0166  0.0095  0.0180  0.0244  0.0316  0.0164   \n",
              "3    0.1264  ...  0.0121  0.0036  0.0150  0.0085  0.0073  0.0050  0.0044   \n",
              "4    0.4459  ...  0.0031  0.0054  0.0105  0.0110  0.0015  0.0072  0.0048   \n",
              "..      ...  ...     ...     ...     ...     ...     ...     ...     ...   \n",
              "203  0.2684  ...  0.0116  0.0098  0.0199  0.0033  0.0101  0.0065  0.0115   \n",
              "204  0.2154  ...  0.0061  0.0093  0.0135  0.0063  0.0063  0.0034  0.0032   \n",
              "205  0.2529  ...  0.0160  0.0029  0.0051  0.0062  0.0089  0.0140  0.0138   \n",
              "206  0.2354  ...  0.0086  0.0046  0.0126  0.0036  0.0035  0.0034  0.0079   \n",
              "207  0.2354  ...  0.0146  0.0129  0.0047  0.0039  0.0061  0.0040  0.0036   \n",
              "\n",
              "         58      59  60  \n",
              "0    0.0090  0.0032   R  \n",
              "1    0.0052  0.0044   R  \n",
              "2    0.0095  0.0078   R  \n",
              "3    0.0040  0.0117   R  \n",
              "4    0.0107  0.0094   R  \n",
              "..      ...     ...  ..  \n",
              "203  0.0193  0.0157   M  \n",
              "204  0.0062  0.0067   M  \n",
              "205  0.0077  0.0031   M  \n",
              "206  0.0036  0.0048   M  \n",
              "207  0.0061  0.0115   M  \n",
              "\n",
              "[208 rows x 61 columns]"
            ],
            "text/html": [
              "\n",
              "  <div id=\"df-594f57b7-718d-4f09-8654-8b873b0fe8ff\">\n",
              "    <div class=\"colab-df-container\">\n",
              "      <div>\n",
              "<style scoped>\n",
              "    .dataframe tbody tr th:only-of-type {\n",
              "        vertical-align: middle;\n",
              "    }\n",
              "\n",
              "    .dataframe tbody tr th {\n",
              "        vertical-align: top;\n",
              "    }\n",
              "\n",
              "    .dataframe thead th {\n",
              "        text-align: right;\n",
              "    }\n",
              "</style>\n",
              "<table border=\"1\" class=\"dataframe\">\n",
              "  <thead>\n",
              "    <tr style=\"text-align: right;\">\n",
              "      <th></th>\n",
              "      <th>0</th>\n",
              "      <th>1</th>\n",
              "      <th>2</th>\n",
              "      <th>3</th>\n",
              "      <th>4</th>\n",
              "      <th>5</th>\n",
              "      <th>6</th>\n",
              "      <th>7</th>\n",
              "      <th>8</th>\n",
              "      <th>9</th>\n",
              "      <th>...</th>\n",
              "      <th>51</th>\n",
              "      <th>52</th>\n",
              "      <th>53</th>\n",
              "      <th>54</th>\n",
              "      <th>55</th>\n",
              "      <th>56</th>\n",
              "      <th>57</th>\n",
              "      <th>58</th>\n",
              "      <th>59</th>\n",
              "      <th>60</th>\n",
              "    </tr>\n",
              "  </thead>\n",
              "  <tbody>\n",
              "    <tr>\n",
              "      <th>0</th>\n",
              "      <td>0.0200</td>\n",
              "      <td>0.0371</td>\n",
              "      <td>0.0428</td>\n",
              "      <td>0.0207</td>\n",
              "      <td>0.0954</td>\n",
              "      <td>0.0986</td>\n",
              "      <td>0.1539</td>\n",
              "      <td>0.1601</td>\n",
              "      <td>0.3109</td>\n",
              "      <td>0.2111</td>\n",
              "      <td>...</td>\n",
              "      <td>0.0027</td>\n",
              "      <td>0.0065</td>\n",
              "      <td>0.0159</td>\n",
              "      <td>0.0072</td>\n",
              "      <td>0.0167</td>\n",
              "      <td>0.0180</td>\n",
              "      <td>0.0084</td>\n",
              "      <td>0.0090</td>\n",
              "      <td>0.0032</td>\n",
              "      <td>R</td>\n",
              "    </tr>\n",
              "    <tr>\n",
              "      <th>1</th>\n",
              "      <td>0.0453</td>\n",
              "      <td>0.0523</td>\n",
              "      <td>0.0843</td>\n",
              "      <td>0.0689</td>\n",
              "      <td>0.1183</td>\n",
              "      <td>0.2583</td>\n",
              "      <td>0.2156</td>\n",
              "      <td>0.3481</td>\n",
              "      <td>0.3337</td>\n",
              "      <td>0.2872</td>\n",
              "      <td>...</td>\n",
              "      <td>0.0084</td>\n",
              "      <td>0.0089</td>\n",
              "      <td>0.0048</td>\n",
              "      <td>0.0094</td>\n",
              "      <td>0.0191</td>\n",
              "      <td>0.0140</td>\n",
              "      <td>0.0049</td>\n",
              "      <td>0.0052</td>\n",
              "      <td>0.0044</td>\n",
              "      <td>R</td>\n",
              "    </tr>\n",
              "    <tr>\n",
              "      <th>2</th>\n",
              "      <td>0.0262</td>\n",
              "      <td>0.0582</td>\n",
              "      <td>0.1099</td>\n",
              "      <td>0.1083</td>\n",
              "      <td>0.0974</td>\n",
              "      <td>0.2280</td>\n",
              "      <td>0.2431</td>\n",
              "      <td>0.3771</td>\n",
              "      <td>0.5598</td>\n",
              "      <td>0.6194</td>\n",
              "      <td>...</td>\n",
              "      <td>0.0232</td>\n",
              "      <td>0.0166</td>\n",
              "      <td>0.0095</td>\n",
              "      <td>0.0180</td>\n",
              "      <td>0.0244</td>\n",
              "      <td>0.0316</td>\n",
              "      <td>0.0164</td>\n",
              "      <td>0.0095</td>\n",
              "      <td>0.0078</td>\n",
              "      <td>R</td>\n",
              "    </tr>\n",
              "    <tr>\n",
              "      <th>3</th>\n",
              "      <td>0.0100</td>\n",
              "      <td>0.0171</td>\n",
              "      <td>0.0623</td>\n",
              "      <td>0.0205</td>\n",
              "      <td>0.0205</td>\n",
              "      <td>0.0368</td>\n",
              "      <td>0.1098</td>\n",
              "      <td>0.1276</td>\n",
              "      <td>0.0598</td>\n",
              "      <td>0.1264</td>\n",
              "      <td>...</td>\n",
              "      <td>0.0121</td>\n",
              "      <td>0.0036</td>\n",
              "      <td>0.0150</td>\n",
              "      <td>0.0085</td>\n",
              "      <td>0.0073</td>\n",
              "      <td>0.0050</td>\n",
              "      <td>0.0044</td>\n",
              "      <td>0.0040</td>\n",
              "      <td>0.0117</td>\n",
              "      <td>R</td>\n",
              "    </tr>\n",
              "    <tr>\n",
              "      <th>4</th>\n",
              "      <td>0.0762</td>\n",
              "      <td>0.0666</td>\n",
              "      <td>0.0481</td>\n",
              "      <td>0.0394</td>\n",
              "      <td>0.0590</td>\n",
              "      <td>0.0649</td>\n",
              "      <td>0.1209</td>\n",
              "      <td>0.2467</td>\n",
              "      <td>0.3564</td>\n",
              "      <td>0.4459</td>\n",
              "      <td>...</td>\n",
              "      <td>0.0031</td>\n",
              "      <td>0.0054</td>\n",
              "      <td>0.0105</td>\n",
              "      <td>0.0110</td>\n",
              "      <td>0.0015</td>\n",
              "      <td>0.0072</td>\n",
              "      <td>0.0048</td>\n",
              "      <td>0.0107</td>\n",
              "      <td>0.0094</td>\n",
              "      <td>R</td>\n",
              "    </tr>\n",
              "    <tr>\n",
              "      <th>...</th>\n",
              "      <td>...</td>\n",
              "      <td>...</td>\n",
              "      <td>...</td>\n",
              "      <td>...</td>\n",
              "      <td>...</td>\n",
              "      <td>...</td>\n",
              "      <td>...</td>\n",
              "      <td>...</td>\n",
              "      <td>...</td>\n",
              "      <td>...</td>\n",
              "      <td>...</td>\n",
              "      <td>...</td>\n",
              "      <td>...</td>\n",
              "      <td>...</td>\n",
              "      <td>...</td>\n",
              "      <td>...</td>\n",
              "      <td>...</td>\n",
              "      <td>...</td>\n",
              "      <td>...</td>\n",
              "      <td>...</td>\n",
              "      <td>...</td>\n",
              "    </tr>\n",
              "    <tr>\n",
              "      <th>203</th>\n",
              "      <td>0.0187</td>\n",
              "      <td>0.0346</td>\n",
              "      <td>0.0168</td>\n",
              "      <td>0.0177</td>\n",
              "      <td>0.0393</td>\n",
              "      <td>0.1630</td>\n",
              "      <td>0.2028</td>\n",
              "      <td>0.1694</td>\n",
              "      <td>0.2328</td>\n",
              "      <td>0.2684</td>\n",
              "      <td>...</td>\n",
              "      <td>0.0116</td>\n",
              "      <td>0.0098</td>\n",
              "      <td>0.0199</td>\n",
              "      <td>0.0033</td>\n",
              "      <td>0.0101</td>\n",
              "      <td>0.0065</td>\n",
              "      <td>0.0115</td>\n",
              "      <td>0.0193</td>\n",
              "      <td>0.0157</td>\n",
              "      <td>M</td>\n",
              "    </tr>\n",
              "    <tr>\n",
              "      <th>204</th>\n",
              "      <td>0.0323</td>\n",
              "      <td>0.0101</td>\n",
              "      <td>0.0298</td>\n",
              "      <td>0.0564</td>\n",
              "      <td>0.0760</td>\n",
              "      <td>0.0958</td>\n",
              "      <td>0.0990</td>\n",
              "      <td>0.1018</td>\n",
              "      <td>0.1030</td>\n",
              "      <td>0.2154</td>\n",
              "      <td>...</td>\n",
              "      <td>0.0061</td>\n",
              "      <td>0.0093</td>\n",
              "      <td>0.0135</td>\n",
              "      <td>0.0063</td>\n",
              "      <td>0.0063</td>\n",
              "      <td>0.0034</td>\n",
              "      <td>0.0032</td>\n",
              "      <td>0.0062</td>\n",
              "      <td>0.0067</td>\n",
              "      <td>M</td>\n",
              "    </tr>\n",
              "    <tr>\n",
              "      <th>205</th>\n",
              "      <td>0.0522</td>\n",
              "      <td>0.0437</td>\n",
              "      <td>0.0180</td>\n",
              "      <td>0.0292</td>\n",
              "      <td>0.0351</td>\n",
              "      <td>0.1171</td>\n",
              "      <td>0.1257</td>\n",
              "      <td>0.1178</td>\n",
              "      <td>0.1258</td>\n",
              "      <td>0.2529</td>\n",
              "      <td>...</td>\n",
              "      <td>0.0160</td>\n",
              "      <td>0.0029</td>\n",
              "      <td>0.0051</td>\n",
              "      <td>0.0062</td>\n",
              "      <td>0.0089</td>\n",
              "      <td>0.0140</td>\n",
              "      <td>0.0138</td>\n",
              "      <td>0.0077</td>\n",
              "      <td>0.0031</td>\n",
              "      <td>M</td>\n",
              "    </tr>\n",
              "    <tr>\n",
              "      <th>206</th>\n",
              "      <td>0.0303</td>\n",
              "      <td>0.0353</td>\n",
              "      <td>0.0490</td>\n",
              "      <td>0.0608</td>\n",
              "      <td>0.0167</td>\n",
              "      <td>0.1354</td>\n",
              "      <td>0.1465</td>\n",
              "      <td>0.1123</td>\n",
              "      <td>0.1945</td>\n",
              "      <td>0.2354</td>\n",
              "      <td>...</td>\n",
              "      <td>0.0086</td>\n",
              "      <td>0.0046</td>\n",
              "      <td>0.0126</td>\n",
              "      <td>0.0036</td>\n",
              "      <td>0.0035</td>\n",
              "      <td>0.0034</td>\n",
              "      <td>0.0079</td>\n",
              "      <td>0.0036</td>\n",
              "      <td>0.0048</td>\n",
              "      <td>M</td>\n",
              "    </tr>\n",
              "    <tr>\n",
              "      <th>207</th>\n",
              "      <td>0.0260</td>\n",
              "      <td>0.0363</td>\n",
              "      <td>0.0136</td>\n",
              "      <td>0.0272</td>\n",
              "      <td>0.0214</td>\n",
              "      <td>0.0338</td>\n",
              "      <td>0.0655</td>\n",
              "      <td>0.1400</td>\n",
              "      <td>0.1843</td>\n",
              "      <td>0.2354</td>\n",
              "      <td>...</td>\n",
              "      <td>0.0146</td>\n",
              "      <td>0.0129</td>\n",
              "      <td>0.0047</td>\n",
              "      <td>0.0039</td>\n",
              "      <td>0.0061</td>\n",
              "      <td>0.0040</td>\n",
              "      <td>0.0036</td>\n",
              "      <td>0.0061</td>\n",
              "      <td>0.0115</td>\n",
              "      <td>M</td>\n",
              "    </tr>\n",
              "  </tbody>\n",
              "</table>\n",
              "<p>208 rows × 61 columns</p>\n",
              "</div>\n",
              "      <button class=\"colab-df-convert\" onclick=\"convertToInteractive('df-594f57b7-718d-4f09-8654-8b873b0fe8ff')\"\n",
              "              title=\"Convert this dataframe to an interactive table.\"\n",
              "              style=\"display:none;\">\n",
              "        \n",
              "  <svg xmlns=\"http://www.w3.org/2000/svg\" height=\"24px\"viewBox=\"0 0 24 24\"\n",
              "       width=\"24px\">\n",
              "    <path d=\"M0 0h24v24H0V0z\" fill=\"none\"/>\n",
              "    <path d=\"M18.56 5.44l.94 2.06.94-2.06 2.06-.94-2.06-.94-.94-2.06-.94 2.06-2.06.94zm-11 1L8.5 8.5l.94-2.06 2.06-.94-2.06-.94L8.5 2.5l-.94 2.06-2.06.94zm10 10l.94 2.06.94-2.06 2.06-.94-2.06-.94-.94-2.06-.94 2.06-2.06.94z\"/><path d=\"M17.41 7.96l-1.37-1.37c-.4-.4-.92-.59-1.43-.59-.52 0-1.04.2-1.43.59L10.3 9.45l-7.72 7.72c-.78.78-.78 2.05 0 2.83L4 21.41c.39.39.9.59 1.41.59.51 0 1.02-.2 1.41-.59l7.78-7.78 2.81-2.81c.8-.78.8-2.07 0-2.86zM5.41 20L4 18.59l7.72-7.72 1.47 1.35L5.41 20z\"/>\n",
              "  </svg>\n",
              "      </button>\n",
              "      \n",
              "  <style>\n",
              "    .colab-df-container {\n",
              "      display:flex;\n",
              "      flex-wrap:wrap;\n",
              "      gap: 12px;\n",
              "    }\n",
              "\n",
              "    .colab-df-convert {\n",
              "      background-color: #E8F0FE;\n",
              "      border: none;\n",
              "      border-radius: 50%;\n",
              "      cursor: pointer;\n",
              "      display: none;\n",
              "      fill: #1967D2;\n",
              "      height: 32px;\n",
              "      padding: 0 0 0 0;\n",
              "      width: 32px;\n",
              "    }\n",
              "\n",
              "    .colab-df-convert:hover {\n",
              "      background-color: #E2EBFA;\n",
              "      box-shadow: 0px 1px 2px rgba(60, 64, 67, 0.3), 0px 1px 3px 1px rgba(60, 64, 67, 0.15);\n",
              "      fill: #174EA6;\n",
              "    }\n",
              "\n",
              "    [theme=dark] .colab-df-convert {\n",
              "      background-color: #3B4455;\n",
              "      fill: #D2E3FC;\n",
              "    }\n",
              "\n",
              "    [theme=dark] .colab-df-convert:hover {\n",
              "      background-color: #434B5C;\n",
              "      box-shadow: 0px 1px 3px 1px rgba(0, 0, 0, 0.15);\n",
              "      filter: drop-shadow(0px 1px 2px rgba(0, 0, 0, 0.3));\n",
              "      fill: #FFFFFF;\n",
              "    }\n",
              "  </style>\n",
              "\n",
              "      <script>\n",
              "        const buttonEl =\n",
              "          document.querySelector('#df-594f57b7-718d-4f09-8654-8b873b0fe8ff button.colab-df-convert');\n",
              "        buttonEl.style.display =\n",
              "          google.colab.kernel.accessAllowed ? 'block' : 'none';\n",
              "\n",
              "        async function convertToInteractive(key) {\n",
              "          const element = document.querySelector('#df-594f57b7-718d-4f09-8654-8b873b0fe8ff');\n",
              "          const dataTable =\n",
              "            await google.colab.kernel.invokeFunction('convertToInteractive',\n",
              "                                                     [key], {});\n",
              "          if (!dataTable) return;\n",
              "\n",
              "          const docLinkHtml = 'Like what you see? Visit the ' +\n",
              "            '<a target=\"_blank\" href=https://colab.research.google.com/notebooks/data_table.ipynb>data table notebook</a>'\n",
              "            + ' to learn more about interactive tables.';\n",
              "          element.innerHTML = '';\n",
              "          dataTable['output_type'] = 'display_data';\n",
              "          await google.colab.output.renderOutput(dataTable, element);\n",
              "          const docLink = document.createElement('div');\n",
              "          docLink.innerHTML = docLinkHtml;\n",
              "          element.appendChild(docLink);\n",
              "        }\n",
              "      </script>\n",
              "    </div>\n",
              "  </div>\n",
              "  "
            ]
          },
          "metadata": {},
          "execution_count": 7
        }
      ]
    },
    {
      "cell_type": "code",
      "source": [
        "y"
      ],
      "metadata": {
        "colab": {
          "base_uri": "https://localhost:8080/"
        },
        "id": "Apt_b7FAp92E",
        "outputId": "ff6362e3-0d1d-483b-8f43-8cbdc704292e"
      },
      "id": "Apt_b7FAp92E",
      "execution_count": 9,
      "outputs": [
        {
          "output_type": "execute_result",
          "data": {
            "text/plain": [
              "array(['R', 'R', 'R', 'R', 'R', 'R', 'R', 'R', 'R', 'R', 'R', 'R', 'R',\n",
              "       'R', 'R', 'R', 'R', 'R', 'R', 'R', 'R', 'R', 'R', 'R', 'R', 'R',\n",
              "       'R', 'R', 'R', 'R', 'R', 'R', 'R', 'R', 'R', 'R', 'R', 'R', 'R',\n",
              "       'R', 'R', 'R', 'R', 'R', 'R', 'R', 'R', 'R', 'R', 'R', 'R', 'R',\n",
              "       'R', 'R', 'R', 'R', 'R', 'R', 'R', 'R', 'R', 'R', 'R', 'R', 'R',\n",
              "       'R', 'R', 'R', 'R', 'R', 'R', 'R', 'R', 'R', 'R', 'R', 'R', 'R',\n",
              "       'R', 'R', 'R', 'R', 'R', 'R', 'R', 'R', 'R', 'R', 'R', 'R', 'R',\n",
              "       'R', 'R', 'R', 'R', 'R', 'R', 'M', 'M', 'M', 'M', 'M', 'M', 'M',\n",
              "       'M', 'M', 'M', 'M', 'M', 'M', 'M', 'M', 'M', 'M', 'M', 'M', 'M',\n",
              "       'M', 'M', 'M', 'M', 'M', 'M', 'M', 'M', 'M', 'M', 'M', 'M', 'M',\n",
              "       'M', 'M', 'M', 'M', 'M', 'M', 'M', 'M', 'M', 'M', 'M', 'M', 'M',\n",
              "       'M', 'M', 'M', 'M', 'M', 'M', 'M', 'M', 'M', 'M', 'M', 'M', 'M',\n",
              "       'M', 'M', 'M', 'M', 'M', 'M', 'M', 'M', 'M', 'M', 'M', 'M', 'M',\n",
              "       'M', 'M', 'M', 'M', 'M', 'M', 'M', 'M', 'M', 'M', 'M', 'M', 'M',\n",
              "       'M', 'M', 'M', 'M', 'M', 'M', 'M', 'M', 'M', 'M', 'M', 'M', 'M',\n",
              "       'M', 'M', 'M', 'M', 'M', 'M', 'M', 'M', 'M', 'M', 'M', 'M', 'M'],\n",
              "      dtype=object)"
            ]
          },
          "metadata": {},
          "execution_count": 9
        }
      ]
    },
    {
      "cell_type": "code",
      "source": [
        "encoded_y"
      ],
      "metadata": {
        "colab": {
          "base_uri": "https://localhost:8080/"
        },
        "id": "S_Gdyd5tp70j",
        "outputId": "c738abd8-89cf-4131-b239-74c411f27ead"
      },
      "id": "S_Gdyd5tp70j",
      "execution_count": 8,
      "outputs": [
        {
          "output_type": "execute_result",
          "data": {
            "text/plain": [
              "array([1, 1, 1, 1, 1, 1, 1, 1, 1, 1, 1, 1, 1, 1, 1, 1, 1, 1, 1, 1, 1, 1,\n",
              "       1, 1, 1, 1, 1, 1, 1, 1, 1, 1, 1, 1, 1, 1, 1, 1, 1, 1, 1, 1, 1, 1,\n",
              "       1, 1, 1, 1, 1, 1, 1, 1, 1, 1, 1, 1, 1, 1, 1, 1, 1, 1, 1, 1, 1, 1,\n",
              "       1, 1, 1, 1, 1, 1, 1, 1, 1, 1, 1, 1, 1, 1, 1, 1, 1, 1, 1, 1, 1, 1,\n",
              "       1, 1, 1, 1, 1, 1, 1, 1, 1, 0, 0, 0, 0, 0, 0, 0, 0, 0, 0, 0, 0, 0,\n",
              "       0, 0, 0, 0, 0, 0, 0, 0, 0, 0, 0, 0, 0, 0, 0, 0, 0, 0, 0, 0, 0, 0,\n",
              "       0, 0, 0, 0, 0, 0, 0, 0, 0, 0, 0, 0, 0, 0, 0, 0, 0, 0, 0, 0, 0, 0,\n",
              "       0, 0, 0, 0, 0, 0, 0, 0, 0, 0, 0, 0, 0, 0, 0, 0, 0, 0, 0, 0, 0, 0,\n",
              "       0, 0, 0, 0, 0, 0, 0, 0, 0, 0, 0, 0, 0, 0, 0, 0, 0, 0, 0, 0, 0, 0,\n",
              "       0, 0, 0, 0, 0, 0, 0, 0, 0, 0])"
            ]
          },
          "metadata": {},
          "execution_count": 8
        }
      ]
    },
    {
      "cell_type": "markdown",
      "id": "44bf3071-0e20-409e-b19f-2f792ec83014",
      "metadata": {
        "id": "44bf3071-0e20-409e-b19f-2f792ec83014"
      },
      "source": [
        "Now, we will split the dataset into a training and testing set with a 80:20 ratio.\n"
      ]
    },
    {
      "cell_type": "code",
      "execution_count": 10,
      "id": "39676f22-261a-4812-a719-c1e9692b4ba0",
      "metadata": {
        "id": "39676f22-261a-4812-a719-c1e9692b4ba0"
      },
      "outputs": [],
      "source": [
        "X_train, X_test, y_train, y_test = train_test_split(X, encoded_y, test_size=0.20, random_state=42)"
      ]
    },
    {
      "cell_type": "markdown",
      "id": "3f9938cc-3181-47fb-82e0-d3a5a372b752",
      "metadata": {
        "id": "3f9938cc-3181-47fb-82e0-d3a5a372b752"
      },
      "source": [
        "### **The Sequential Model API** \n"
      ]
    },
    {
      "cell_type": "markdown",
      "id": "5cca2b8d-665a-404a-a1a1-5eed88688cfe",
      "metadata": {
        "id": "5cca2b8d-665a-404a-a1a1-5eed88688cfe"
      },
      "source": [
        "The Sequential model API groups a linear stack of layers into a `tf.keras.Model`. It doesn't allow you to create models that share layers, have branches, multiple inputs, or multiple outputs. It does provide training and inference features on this model.  \n",
        "\n",
        "<img src=\"https://cf-courses-data.s3.us.cloud-object-storage.appdomain.cloud/IBMDeveloperSkillsNetwork-ML311-Coursera/labs/Module1/L1/images/sequential_model.png\" alt=\"The Sequential model API\" width=\"50%\">\n"
      ]
    },
    {
      "cell_type": "markdown",
      "id": "a89eb4fa-5d39-43e2-8317-e960146055c9",
      "metadata": {
        "id": "a89eb4fa-5d39-43e2-8317-e960146055c9"
      },
      "source": [
        "\n",
        "As you'll see, using the Sequential API is simple and straightforward, but is only appropriate for simpler, more straightforward tasks. Later in this notebook you'll spend some time building with a more flexible, powerful alternative: the Functional API.\n"
      ]
    },
    {
      "cell_type": "markdown",
      "id": "60909897-6a2f-440f-b1c5-e04bae8e71bf",
      "metadata": {
        "id": "60909897-6a2f-440f-b1c5-e04bae8e71bf"
      },
      "source": [
        "### Create the Sequential Model\n"
      ]
    },
    {
      "cell_type": "markdown",
      "id": "d958e519-d718-42f7-85b4-d606975cc0b7",
      "metadata": {
        "id": "d958e519-d718-42f7-85b4-d606975cc0b7"
      },
      "source": [
        "We start off by initializing the model as an instance of the Sequential class, like so: `model = Sequential()`. We follow this by adding layers, normalization layers, methods, softmax classifiers, and so on to the class, one at a time, using `model.add()`. This can be used to add different types of layer instances on top of the layer stack. Similarly, we can use `model.pop()` to remove the last layer of the model. \n",
        "\n",
        "Typically, the first layer receives an `input_shape` argument. This is because, in Keras, the shape of the weights is based on the shape of the inputs. The weights are only created when the model first sees some input data. After that, we can omit this argument and automate the inference of the input shape.\n",
        "\n",
        "Note that if your model is non-linear or contains layers with multiple inputs or outputs, a Sequential model wouldn't be the right choice. \n"
      ]
    },
    {
      "cell_type": "code",
      "execution_count": 13,
      "id": "95c17592-d05c-46cf-a5ed-ee77c92fe192",
      "metadata": {
        "id": "95c17592-d05c-46cf-a5ed-ee77c92fe192"
      },
      "outputs": [],
      "source": [
        "def baseline_model():\n",
        "    model = Sequential()\n",
        "    model.add(Dense(60, activation='relu', input_shape=(60,)))\n",
        "    model.add(Dense(60, activation='relu'))\n",
        "    model.add(Dense(1, activation='sigmoid'))\n",
        "    model.compile(optimizer='adam',\n",
        "              loss='binary_crossentropy',\n",
        "              metrics=['accuracy'])\n",
        "\n",
        "    return model"
      ]
    },
    {
      "cell_type": "code",
      "execution_count": 14,
      "id": "e91d028f-3502-437f-9cc7-9ea03bcf8997",
      "metadata": {
        "colab": {
          "base_uri": "https://localhost:8080/"
        },
        "id": "e91d028f-3502-437f-9cc7-9ea03bcf8997",
        "outputId": "c8c73f66-8e34-4b72-b9cc-65206f532cef"
      },
      "outputs": [
        {
          "output_type": "stream",
          "name": "stdout",
          "text": [
            "Model: \"sequential\"\n",
            "_________________________________________________________________\n",
            " Layer (type)                Output Shape              Param #   \n",
            "=================================================================\n",
            " dense (Dense)               (None, 60)                3660      \n",
            "                                                                 \n",
            " dense_1 (Dense)             (None, 60)                3660      \n",
            "                                                                 \n",
            " dense_2 (Dense)             (None, 1)                 61        \n",
            "                                                                 \n",
            "=================================================================\n",
            "Total params: 7,381\n",
            "Trainable params: 7,381\n",
            "Non-trainable params: 0\n",
            "_________________________________________________________________\n"
          ]
        }
      ],
      "source": [
        "estimator = baseline_model()\n",
        "estimator.summary()"
      ]
    },
    {
      "cell_type": "markdown",
      "id": "26074245-6410-4071-9042-c5b0c3f0b838",
      "metadata": {
        "id": "26074245-6410-4071-9042-c5b0c3f0b838"
      },
      "source": [
        "### Train and Evaluate the Model\n"
      ]
    },
    {
      "cell_type": "markdown",
      "id": "365f8278-fd4a-48d2-a380-5e666f7bbc29",
      "metadata": {
        "id": "365f8278-fd4a-48d2-a380-5e666f7bbc29"
      },
      "source": [
        "After creating the model, compiling it with your choice of optimizer and loss function, and doing a sanity check on its contents, you are now ready to build.\n",
        "\n",
        "Simply call the `.fit()` to train the model. \n"
      ]
    },
    {
      "cell_type": "code",
      "execution_count": 15,
      "id": "12475702-e582-4858-aa45-eabc5d1b6a26",
      "metadata": {
        "colab": {
          "base_uri": "https://localhost:8080/"
        },
        "id": "12475702-e582-4858-aa45-eabc5d1b6a26",
        "outputId": "7e756cf0-ab30-4044-b5ce-ceae87e3c0d3"
      },
      "outputs": [
        {
          "output_type": "stream",
          "name": "stdout",
          "text": [
            "Epoch 1/10\n",
            "11/11 [==============================] - 1s 4ms/step - loss: 0.6925 - accuracy: 0.5783\n",
            "Epoch 2/10\n",
            "11/11 [==============================] - 0s 3ms/step - loss: 0.6645 - accuracy: 0.5904\n",
            "Epoch 3/10\n",
            "11/11 [==============================] - 0s 3ms/step - loss: 0.6546 - accuracy: 0.6205\n",
            "Epoch 4/10\n",
            "11/11 [==============================] - 0s 3ms/step - loss: 0.6370 - accuracy: 0.6506\n",
            "Epoch 5/10\n",
            "11/11 [==============================] - 0s 3ms/step - loss: 0.6204 - accuracy: 0.7349\n",
            "Epoch 6/10\n",
            "11/11 [==============================] - 0s 3ms/step - loss: 0.5981 - accuracy: 0.7771\n",
            "Epoch 7/10\n",
            "11/11 [==============================] - 0s 4ms/step - loss: 0.5836 - accuracy: 0.6807\n",
            "Epoch 8/10\n",
            "11/11 [==============================] - 0s 3ms/step - loss: 0.5624 - accuracy: 0.7711\n",
            "Epoch 9/10\n",
            "11/11 [==============================] - 0s 3ms/step - loss: 0.5483 - accuracy: 0.7169\n",
            "Epoch 10/10\n",
            "11/11 [==============================] - 0s 3ms/step - loss: 0.5218 - accuracy: 0.8253\n"
          ]
        },
        {
          "output_type": "execute_result",
          "data": {
            "text/plain": [
              "<keras.callbacks.History at 0x7f7c7c07bc10>"
            ]
          },
          "metadata": {},
          "execution_count": 15
        }
      ],
      "source": [
        "# Write your solution here\n",
        "estimator.fit(X_train, y_train, epochs=10, batch_size=16)"
      ]
    },
    {
      "cell_type": "markdown",
      "id": "b82c8a0c-1faa-4cfe-b69c-e39159e1e268",
      "metadata": {
        "id": "b82c8a0c-1faa-4cfe-b69c-e39159e1e268"
      },
      "source": [
        "After that completes, just use `.predict()` to evaluate against your test set. In this case, the `accuracy` will be used as the metric.\n"
      ]
    },
    {
      "cell_type": "code",
      "execution_count": 16,
      "id": "4cb5b7ac-562a-45c7-b681-501317b60b32",
      "metadata": {
        "colab": {
          "base_uri": "https://localhost:8080/"
        },
        "id": "4cb5b7ac-562a-45c7-b681-501317b60b32",
        "outputId": "21ef0f27-002c-4ac7-cb5c-7311437db00a"
      },
      "outputs": [
        {
          "output_type": "stream",
          "name": "stdout",
          "text": [
            "2/2 [==============================] - 0s 6ms/step\n"
          ]
        },
        {
          "output_type": "execute_result",
          "data": {
            "text/plain": [
              "0.8571428571428571"
            ]
          },
          "metadata": {},
          "execution_count": 16
        }
      ],
      "source": [
        "y_pred = estimator.predict(X_test)\n",
        "y_pred = [1 if x >= 0.5 else 0 for x in y_pred]\n",
        "metrics.accuracy_score(y_pred, y_test)"
      ]
    },
    {
      "cell_type": "markdown",
      "id": "a54021b3-71b3-46e5-b9df-c4020bb0038c",
      "metadata": {
        "id": "a54021b3-71b3-46e5-b9df-c4020bb0038c"
      },
      "source": [
        "### **The Functional Model API**\n"
      ]
    },
    {
      "cell_type": "markdown",
      "id": "3d024141-8452-4e1e-a90f-2a3118021848",
      "metadata": {
        "id": "3d024141-8452-4e1e-a90f-2a3118021848"
      },
      "source": [
        "The Sequential class in Keras is typically used for implementing basic neural network architectures. The `Functional` class is typically preferred by most deep learning practitioners as it is more flexible and enables more complex implementations. It allows you to have non-linear topologies, different layers, multiple inputs and outputs. You can easily define branches in your architectures and easily share layers inside architectures. A Functional model is a graph where the nodes of the layers can connect in many more ways than one.\n",
        "\n",
        "<img src=\"https://cf-courses-data.s3.us.cloud-object-storage.appdomain.cloud/IBMDeveloperSkillsNetwork-ML311-Coursera/labs/Module1/L1/images/functional_model.png\" alt=\"The Sequential model API\" width=\"50%\">\n",
        "\n",
        "\n",
        "All models that are implemented in `Sequential()` can easily be implemented in `Functional()`. Some examples of models that are implemented in `Functional()` include ResNet, GoogleNet, Xception. \n"
      ]
    },
    {
      "cell_type": "markdown",
      "id": "d4e9a02e-68aa-4f62-9803-f613743a05ea",
      "metadata": {
        "id": "d4e9a02e-68aa-4f62-9803-f613743a05ea"
      },
      "source": [
        "Both `Sequential()` and `Functional()` use the same training, evaluation, and inference functions. \n",
        "\n",
        "The Model class offers a built in training loop through the `.fit()` method, and a built-in evaluation loop using the `.evaluate()` method. \n",
        "\n",
        "The following is a simple example of fitting and evaluating a model on MNIST test data:    \n"
      ]
    },
    {
      "cell_type": "markdown",
      "id": "6d158779-0e09-4032-8c26-046465c638cd",
      "metadata": {
        "id": "6d158779-0e09-4032-8c26-046465c638cd"
      },
      "source": [
        "We will start by loading the dataset directly using Keras.\n"
      ]
    },
    {
      "cell_type": "code",
      "execution_count": 17,
      "id": "1282f468-7a78-4c22-9d8c-04eed8088a71",
      "metadata": {
        "id": "1282f468-7a78-4c22-9d8c-04eed8088a71"
      },
      "outputs": [],
      "source": [
        "def functional_model():\n",
        "    inputs = keras.Input(shape=(60,))\n",
        "    layer1 = Dense(60, activation='relu')(inputs)\n",
        "    layer2 = Dense(60, activation='relu')(layer1)\n",
        "    outputs = Dense(1, activation='sigmoid')(layer2)\n",
        "\n",
        "    model = keras.Model(inputs, outputs)\n",
        "    \n",
        "    # Compile model, write code below\n",
        "    model.compile(optimizer='adam',\n",
        "              loss='binary_crossentropy',\n",
        "              metrics=['accuracy'])\n",
        "\n",
        "    return model"
      ]
    },
    {
      "cell_type": "code",
      "execution_count": 18,
      "id": "60b1e36b-8dd9-47e5-8e5c-d967071a1bf6",
      "metadata": {
        "colab": {
          "base_uri": "https://localhost:8080/"
        },
        "id": "60b1e36b-8dd9-47e5-8e5c-d967071a1bf6",
        "outputId": "2914b857-c2ab-442a-d1ed-e1b4fbc7ad34"
      },
      "outputs": [
        {
          "output_type": "stream",
          "name": "stdout",
          "text": [
            "Model: \"sequential\"\n",
            "_________________________________________________________________\n",
            " Layer (type)                Output Shape              Param #   \n",
            "=================================================================\n",
            " dense (Dense)               (None, 60)                3660      \n",
            "                                                                 \n",
            " dense_1 (Dense)             (None, 60)                3660      \n",
            "                                                                 \n",
            " dense_2 (Dense)             (None, 1)                 61        \n",
            "                                                                 \n",
            "=================================================================\n",
            "Total params: 7,381\n",
            "Trainable params: 7,381\n",
            "Non-trainable params: 0\n",
            "_________________________________________________________________\n"
          ]
        }
      ],
      "source": [
        "functional_estimator=functional_model()\n",
        "estimator.summary()"
      ]
    },
    {
      "cell_type": "code",
      "execution_count": 19,
      "id": "4967db2f-12c1-4031-b56d-874b6553d360",
      "metadata": {
        "colab": {
          "base_uri": "https://localhost:8080/"
        },
        "id": "4967db2f-12c1-4031-b56d-874b6553d360",
        "outputId": "a82d5a74-5f8a-4b53-93eb-499f4a0ec1f0"
      },
      "outputs": [
        {
          "output_type": "stream",
          "name": "stdout",
          "text": [
            "Epoch 1/10\n",
            "11/11 [==============================] - 1s 3ms/step - loss: 0.7001 - accuracy: 0.4880\n",
            "Epoch 2/10\n",
            "11/11 [==============================] - 0s 2ms/step - loss: 0.6792 - accuracy: 0.6145\n",
            "Epoch 3/10\n",
            "11/11 [==============================] - 0s 2ms/step - loss: 0.6637 - accuracy: 0.6566\n",
            "Epoch 4/10\n",
            "11/11 [==============================] - 0s 3ms/step - loss: 0.6493 - accuracy: 0.7590\n",
            "Epoch 5/10\n",
            "11/11 [==============================] - 0s 2ms/step - loss: 0.6311 - accuracy: 0.7831\n",
            "Epoch 6/10\n",
            "11/11 [==============================] - 0s 2ms/step - loss: 0.6078 - accuracy: 0.7651\n",
            "Epoch 7/10\n",
            "11/11 [==============================] - 0s 2ms/step - loss: 0.5856 - accuracy: 0.7289\n",
            "Epoch 8/10\n",
            "11/11 [==============================] - 0s 4ms/step - loss: 0.5616 - accuracy: 0.7952\n",
            "Epoch 9/10\n",
            "11/11 [==============================] - 0s 3ms/step - loss: 0.5376 - accuracy: 0.7711\n",
            "Epoch 10/10\n",
            "11/11 [==============================] - 0s 2ms/step - loss: 0.5115 - accuracy: 0.7892\n"
          ]
        },
        {
          "output_type": "execute_result",
          "data": {
            "text/plain": [
              "<keras.callbacks.History at 0x7f7c6f57d540>"
            ]
          },
          "metadata": {},
          "execution_count": 19
        }
      ],
      "source": [
        "functional_estimator.fit(X_train, y_train, epochs=10, batch_size=16)"
      ]
    },
    {
      "cell_type": "markdown",
      "id": "a3e43c38-10a2-4432-9d98-44580dfe865f",
      "metadata": {
        "id": "a3e43c38-10a2-4432-9d98-44580dfe865f"
      },
      "source": [
        "Similar to what we did before, evaluate the estimator's performance on the test dataset, and print out the accuracy.\n"
      ]
    },
    {
      "cell_type": "code",
      "execution_count": 20,
      "id": "29686369-7bb8-4a91-bfa3-edc4fb021f76",
      "metadata": {
        "colab": {
          "base_uri": "https://localhost:8080/"
        },
        "id": "29686369-7bb8-4a91-bfa3-edc4fb021f76",
        "outputId": "f9768393-943d-4cb2-d98b-f929aad62c78"
      },
      "outputs": [
        {
          "output_type": "stream",
          "name": "stdout",
          "text": [
            "2/2 [==============================] - 0s 5ms/step\n"
          ]
        },
        {
          "output_type": "execute_result",
          "data": {
            "text/plain": [
              "0.9047619047619048"
            ]
          },
          "metadata": {},
          "execution_count": 20
        }
      ],
      "source": [
        "# Write your solution here\n",
        "y_pred= functional_estimator.predict(X_test)\n",
        "y_pred = [1 if x>=0.5 else 0 for x in y_pred]\n",
        "metrics.accuracy_score(y_pred, y_test)"
      ]
    },
    {
      "cell_type": "markdown",
      "id": "7c55d0bc-87ff-433f-8c81-0bcec33c9b0f",
      "metadata": {
        "id": "7c55d0bc-87ff-433f-8c81-0bcec33c9b0f"
      },
      "source": [
        "### **Model Subclassing**\n"
      ]
    },
    {
      "cell_type": "markdown",
      "id": "934c8188-de62-4946-bc02-90ddea3cde1d",
      "metadata": {
        "id": "934c8188-de62-4946-bc02-90ddea3cde1d"
      },
      "source": [
        "Next, we will learn how to make new models and classes using model sub-classing. This method is more flexible and can be used to implement out-of-box models, but this comes at a cost, it is a lot harder to utilize than `Sequential()` and `Functional()` API.\n",
        "\n",
        "<img src=\"https://cf-courses-data.s3.us.cloud-object-storage.appdomain.cloud/IBMDeveloperSkillsNetwork-ML311-Coursera/labs/Module1/L1/images/subclassing.png\" alt=\"The Sequential model API\" width=\"30%\">\n",
        "\n",
        "\n",
        "We will implement a custom model that performs a type of convolution or pooling. In the following example, we will implement a Sequential model but define it with multiple inputs and outputs. \n"
      ]
    },
    {
      "cell_type": "code",
      "execution_count": 21,
      "id": "ab4aca5f-9116-4034-87c1-0b44d5fc6ec8",
      "metadata": {
        "id": "ab4aca5f-9116-4034-87c1-0b44d5fc6ec8"
      },
      "outputs": [],
      "source": [
        "class MyModel(tf.keras.Model):\n",
        "    def __init__(self):\n",
        "        super().__init__()\n",
        "        self.dense1 = Dense(60, activation = 'relu')\n",
        "        self.dense2 = Dense(60, activation = 'relu')\n",
        "        self.dense3 = Dense(1, activation = 'sigmoid')\n",
        "\n",
        "    def call(self, inputs):\n",
        "        x = self.dense1(inputs)\n",
        "        x = self.dense2(x)\n",
        "        return self.dense3(x)\n",
        "    \n",
        "def subclass_model():\n",
        "    inputs = keras.Input(shape=(60,))\n",
        "    mymodel = MyModel()\n",
        "    outputs = mymodel.call(inputs)\n",
        "\n",
        "    model = keras.Model(inputs, outputs)\n",
        "    model.compile(optimizer='adam',\n",
        "              loss='binary_crossentropy',\n",
        "              metrics=['accuracy'])\n",
        "    \n",
        "    return model"
      ]
    },
    {
      "cell_type": "code",
      "execution_count": 22,
      "id": "d86167ab-f04c-4ad2-9837-ba517321e897",
      "metadata": {
        "colab": {
          "base_uri": "https://localhost:8080/"
        },
        "id": "d86167ab-f04c-4ad2-9837-ba517321e897",
        "outputId": "9723f066-eb0e-450f-c7a8-4b73f4ebf90a"
      },
      "outputs": [
        {
          "output_type": "stream",
          "name": "stdout",
          "text": [
            "Epoch 1/15\n",
            "11/11 [==============================] - 1s 3ms/step - loss: 0.6903 - accuracy: 0.5120\n",
            "Epoch 2/15\n",
            "11/11 [==============================] - 0s 2ms/step - loss: 0.6692 - accuracy: 0.6265\n",
            "Epoch 3/15\n",
            "11/11 [==============================] - 0s 2ms/step - loss: 0.6500 - accuracy: 0.7470\n",
            "Epoch 4/15\n",
            "11/11 [==============================] - 0s 2ms/step - loss: 0.6324 - accuracy: 0.7651\n",
            "Epoch 5/15\n",
            "11/11 [==============================] - 0s 3ms/step - loss: 0.6149 - accuracy: 0.7229\n",
            "Epoch 6/15\n",
            "11/11 [==============================] - 0s 2ms/step - loss: 0.5896 - accuracy: 0.8012\n",
            "Epoch 7/15\n",
            "11/11 [==============================] - 0s 2ms/step - loss: 0.5751 - accuracy: 0.7831\n",
            "Epoch 8/15\n",
            "11/11 [==============================] - 0s 2ms/step - loss: 0.5461 - accuracy: 0.8072\n",
            "Epoch 9/15\n",
            "11/11 [==============================] - 0s 2ms/step - loss: 0.5248 - accuracy: 0.7952\n",
            "Epoch 10/15\n",
            "11/11 [==============================] - 0s 2ms/step - loss: 0.5081 - accuracy: 0.7530\n",
            "Epoch 11/15\n",
            "11/11 [==============================] - 0s 2ms/step - loss: 0.4846 - accuracy: 0.8133\n",
            "Epoch 12/15\n",
            "11/11 [==============================] - 0s 2ms/step - loss: 0.4723 - accuracy: 0.7831\n",
            "Epoch 13/15\n",
            "11/11 [==============================] - 0s 2ms/step - loss: 0.4484 - accuracy: 0.8494\n",
            "Epoch 14/15\n",
            "11/11 [==============================] - 0s 2ms/step - loss: 0.4301 - accuracy: 0.8494\n",
            "Epoch 15/15\n",
            "11/11 [==============================] - 0s 2ms/step - loss: 0.4156 - accuracy: 0.8554\n"
          ]
        },
        {
          "output_type": "execute_result",
          "data": {
            "text/plain": [
              "<keras.callbacks.History at 0x7f7c6db12110>"
            ]
          },
          "metadata": {},
          "execution_count": 22
        }
      ],
      "source": [
        "subclass_estimator = subclass_model()\n",
        "subclass_estimator.fit(X_train, y_train, epochs=15, batch_size=16)"
      ]
    },
    {
      "cell_type": "code",
      "execution_count": 23,
      "id": "09e3b627-5b12-4aa6-abb4-6371c2717366",
      "metadata": {
        "colab": {
          "base_uri": "https://localhost:8080/"
        },
        "id": "09e3b627-5b12-4aa6-abb4-6371c2717366",
        "outputId": "46fd4979-c2a3-4a3b-d433-f499d95db7ce"
      },
      "outputs": [
        {
          "output_type": "stream",
          "name": "stdout",
          "text": [
            "7/7 [==============================] - 0s 3ms/step\n"
          ]
        },
        {
          "output_type": "execute_result",
          "data": {
            "text/plain": [
              "0.8509615384615384"
            ]
          },
          "metadata": {},
          "execution_count": 23
        }
      ],
      "source": [
        "y_pred = subclass_estimator.predict(X)\n",
        "y_pred = [1 if x >= 0.5 else 0 for x in y_pred]\n",
        "metrics.accuracy_score(y_pred, encoded_y)"
      ]
    },
    {
      "cell_type": "markdown",
      "id": "cb393ec9-74c9-48c2-8dd9-df0f4569f1b7",
      "metadata": {
        "id": "cb393ec9-74c9-48c2-8dd9-df0f4569f1b7"
      },
      "source": [
        "## References\n"
      ]
    },
    {
      "cell_type": "markdown",
      "id": "4a8a71c3-060f-40bf-89ab-1e99e6a206a4",
      "metadata": {
        "id": "4a8a71c3-060f-40bf-89ab-1e99e6a206a4"
      },
      "source": [
        "* Sequential Model: https://www.tensorflow.org/guide/keras/sequential_model\n",
        "\n",
        "* Functional Model: https://www.tensorflow.org/guide/keras/functional\n"
      ]
    }
  ],
  "metadata": {
    "kernelspec": {
      "display_name": "Python",
      "language": "python",
      "name": "conda-env-python-py"
    },
    "language_info": {
      "name": ""
    },
    "colab": {
      "provenance": []
    }
  },
  "nbformat": 4,
  "nbformat_minor": 5
}