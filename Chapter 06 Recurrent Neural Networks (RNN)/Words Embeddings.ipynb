{
  "cells": [
    {
      "cell_type": "markdown",
      "metadata": {
        "id": "9805ad4f-16d3-43e3-976a-f784213a0154"
      },
      "source": [
        "# __Embeddings__\n"
      ]
    },
    {
      "cell_type": "markdown",
      "metadata": {
        "id": "3a1e3d7c-5c1c-4533-b9e7-5a460b45962d"
      },
      "source": [
        "You work for a streaming service that wants an automatic way to determine if they should add a movie to its catalog; each film is expensive to purchase, so the  streaming service would only like good movies to add to the catalog. You have been hired to build a neural network to determine if a movie is good or not using critics' written ratings similar to \"Rotten Tomatoes\". \n",
        "\n",
        "In this notebook, you will learn the fundamentals of how to convert text data to usable features for your neural network. In addition, you will also learn about the embedding layer, an engineering solution that allows you to implement linear layers for categorical data effectively. \n",
        "\n",
        "<img src=\"https://cf-courses-data.s3.us.cloud-object-storage.appdomain.cloud/IBMDeveloperSkillsNetwork-ML311-Coursera/labs/Module4/L1/movie_review.webp\" style=\"width: 60%\">\n"
      ]
    },
    {
      "cell_type": "markdown",
      "metadata": {
        "id": "8499fdc2-6b9e-4a4f-92f9-e873454a37d5"
      },
      "source": [
        "## Objectives\n",
        "\n",
        "After completing this lab, you will be able to:\n",
        "\n",
        " - Understand the theory behind Embedding Layers  \n",
        " - Apply Tokenizer, Embedding Layers to a neural network \n",
        " - Perform Sentiment Analysis using a neural network \n"
      ]
    },
    {
      "cell_type": "markdown",
      "metadata": {
        "id": "6946b718-5ed6-4e3e-8fd3-7c9095503c11"
      },
      "source": [
        "----\n"
      ]
    },
    {
      "cell_type": "markdown",
      "metadata": {
        "id": "49ddfae9-8408-4945-bc1b-6ac575da62da"
      },
      "source": [
        "### Importing Required Libraries\n"
      ]
    },
    {
      "cell_type": "code",
      "metadata": {
        "id": "0bd5af33-f2e2-4732-9975-93d644c3879b"
      },
      "outputs": [],
      "source": [
        "def warn(*args, **kwargs):\n",
        "    pass\n",
        "import warnings\n",
        "warnings.warn = warn\n",
        "warnings.filterwarnings('ignore')\n",
        "\n",
        "import importlib\n",
        "import numpy as np\n",
        "\n",
        "import matplotlib.pyplot as plt\n",
        "from numpy.random import seed\n",
        "seed(1)\n",
        "\n",
        "import  tensorflow as tf\n",
        "\n",
        "tf.random.set_seed(1234)\n",
        "from tensorflow.keras.layers import Embedding, Dense, Flatten,Dropout\n",
        "from tensorflow.keras.models import Sequential\n",
        "\n",
        "from keras import preprocessing\n",
        "from tensorflow.keras.preprocessing.text import Tokenizer\n",
        "from tensorflow.keras.preprocessing.sequence import pad_sequences\n",
        "\n",
        "from tensorflow.keras import regularizers\n"
      ],
      "execution_count": 1
    },
    {
      "cell_type": "code",
      "metadata": {
        "colab": {
          "base_uri": "https://localhost:8080/"
        },
        "id": "993cfd59-b571-4cb9-ac84-528ae5a273a2",
        "outputId": "a60d6940-16e7-4837-c4dc-bb3cd3ad90ac"
      },
      "outputs": [
        {
          "output_type": "stream",
          "name": "stdout",
          "text": [
            "2.12.0\n"
          ]
        }
      ],
      "source": [
        "# Print tensorflow version, should be greater than 2.9.0\n",
        "print(tf.__version__)"
      ],
      "execution_count": 2
    },
    {
      "cell_type": "markdown",
      "metadata": {
        "id": "827b6c05-cb0b-4410-a315-ce9a350f726b"
      },
      "source": [
        "### Defining Helper Functions\n"
      ]
    },
    {
      "cell_type": "markdown",
      "metadata": {
        "id": "1f7dd6e4-41a0-4a5e-a9a7-35d473ae3bec"
      },
      "source": [
        "This function will plot the neural network's loss and accuracy curves from its training history:\n"
      ]
    },
    {
      "cell_type": "code",
      "metadata": {
        "id": "352618b2-d1a2-4b7f-9eb4-02356ab0a975"
      },
      "outputs": [],
      "source": [
        "def display_metrics(history):\n",
        "\n",
        "    n = len(history.history[\"loss\"])\n",
        "\n",
        "    fig = plt.figure(figsize=(12, 6))\n",
        "    ax = fig.add_subplot(1, 2, 1)\n",
        "    ax.plot(range(n), (history.history[\"loss\"]),'r', label=\"Train Loss\")\n",
        "    ax.plot(range(n), (history.history[\"val_loss\"]),'b', label=\"Validation Loss\")\n",
        "    ax.legend()\n",
        "    ax.set_title('Loss over iterations')\n",
        "\n",
        "    ax = fig.add_subplot(1, 2, 2)\n",
        "    ax.plot(range(n), (history.history[\"acc\"]),'r', label=\"Train Acc\")\n",
        "    ax.plot(range(n), (history.history[\"val_acc\"]),'b', label=\"Validation Acc\")\n",
        "    ax.legend(loc='lower right')\n",
        "    ax.set_title('Accuracy over iterations')"
      ],
      "execution_count": 3
    },
    {
      "cell_type": "markdown",
      "metadata": {
        "id": "f9464edd-5cad-4a40-9d45-21375309b217"
      },
      "source": [
        "This function will plot word embeddings that have been reduced to two dimensions:\n"
      ]
    },
    {
      "cell_type": "code",
      "metadata": {
        "id": "2f3b5145-31d2-4a92-9f8f-036ce5161225"
      },
      "outputs": [],
      "source": [
        "def plot_embedding(X_embedded,start=100,stop=300,sample=10):\n",
        "    fig, ax = plt.subplots()\n",
        "    ax.scatter(X_embedded[start:stop:sample,0], X_embedded[start:stop:sample,1])\n",
        "    for i in range(start,stop,sample):\n",
        "        ax.annotate(REVERSE_LOOKUP[i+1], (X_embedded[i,0], X_embedded[i,1]))"
      ],
      "execution_count": 4
    },
    {
      "cell_type": "markdown",
      "metadata": {
        "id": "aa78905b-5554-4369-b99b-5b9bf5584618"
      },
      "source": [
        "This function will convert a probability to a Rotten Tomatoes score:\n"
      ]
    },
    {
      "cell_type": "code",
      "metadata": {
        "id": "6d18d5bc-751b-4a9d-8d1b-7e8f47d88dfc"
      },
      "outputs": [],
      "source": [
        "def rotten_tomato_score(p_yx):\n",
        "    return [\"rotten\"  if p<=0.60 else \"fresh\"for p in p_yx ]\n",
        "        "
      ],
      "execution_count": 5
    },
    {
      "cell_type": "markdown",
      "metadata": {
        "id": "8f2f008b-1caf-424a-a1cf-fa1d9c364e8b"
      },
      "source": [
        "##  Background\n"
      ]
    },
    {
      "cell_type": "markdown",
      "metadata": {
        "id": "c99db2cf-4ec2-494e-adea-193b987e16f3"
      },
      "source": [
        "As most machine learning models need their input variables to be numeric, text variables need to be transformed in the pre-processing part. There are several methods to perform this transformation. One-hot and Multi-hot encoding are frequently used to deal with textual data. \n",
        "\n",
        "One-hot encoding involves creating a set of vectors whose length equals the number of unique elements in the corpus or the vocabulary. We represent individual words as ones; else, the element is zero. Consider the following list of three **sequences**:\n"
      ]
    },
    {
      "cell_type": "code",
      "metadata": {
        "id": "e970ac3b-32a9-44ce-995f-76fb0914f673"
      },
      "outputs": [],
      "source": [
        "samples=['I hate cats', \n",
        "         'the dog is brown and I like cats', \n",
        "         'for the']"
      ],
      "execution_count": 8
    },
    {
      "cell_type": "markdown",
      "metadata": {
        "id": "0935e6b9-dd43-4957-b5df-70beebb3b049"
      },
      "source": [
        "We have three **sequences**, and the corresponding number of **word tokens** for each sequence is given by:\n",
        "\n",
        "\n",
        "1. I hate cats - 3 tokens \n",
        "\n",
        "2. the dog is brown and likes cats - 8 tokens\n",
        "\n",
        "3. for the - 2 tokens\n",
        "\n",
        "\n"
      ]
    },
    {
      "cell_type": "markdown",
      "metadata": {
        "id": "1936c756-a3e6-48d0-b0aa-ef0a2ebde452"
      },
      "source": [
        "### Tokenizer\n"
      ]
    },
    {
      "cell_type": "markdown",
      "metadata": {
        "id": "90605153-3348-4019-b0c4-313b9e4c6bd7"
      },
      "source": [
        "One way to encode text features to numeric features is using <b>one-hot-encoding</b> or <b>multi-hot-encoding</b>. The one-hot and multi-hot-encoding vector is a vector consisting of all zeros; if the sequence of text contains a specific word, then an element of the vector is set to one. Consider the vocabulary that consists of all the words in the list ```samples``` each vector will have an element assigned to it shown here:\n"
      ]
    },
    {
      "cell_type": "markdown",
      "metadata": {
        "id": "45602d22-c41b-4db4-a388-c3c4a886f6d8"
      },
      "source": [
        "<img src=\"https://cf-courses-data.s3.us.cloud-object-storage.appdomain.cloud/IBMDeveloperSkillsNetwork-ML311-Coursera/labs/Module4/L1/one_hot.png\" width=\"200\" height=\"250\">\n"
      ]
    },
    {
      "cell_type": "markdown",
      "metadata": {
        "id": "d9898151-c7bb-4a8d-a55b-5753c68312f7"
      },
      "source": [
        "Keras has an additional component for words not in the vocabulary that we will leave out in this explanation. We have ten words; therefore, the vector will have ten elements. For example, we have the vector for the word ```I``` given by:\n"
      ]
    },
    {
      "cell_type": "markdown",
      "metadata": {
        "id": "8c16df7d-352b-4c28-8b8d-b0d2ec404fb1"
      },
      "source": [
        "<img src=\"https://cf-courses-data.s3.us.cloud-object-storage.appdomain.cloud/IBMDeveloperSkillsNetwork-ML311-Coursera/labs/Module4/L1/I.png\" width=\"550\" height=\"650\">\n"
      ]
    },
    {
      "cell_type": "markdown",
      "metadata": {
        "id": "af205334-383f-4ae2-a92d-21b3392e1725"
      },
      "source": [
        "All the elements in the vector are zero except for the index corresponding to the word ```I```; this is an example of one-hot-encoding. For **multi-hot-encoding** the sentence 'I hate cats', the vector is given by the following:\n"
      ]
    },
    {
      "cell_type": "markdown",
      "metadata": {
        "id": "ca838230-3d02-459f-b5d0-38cfed20cdb5"
      },
      "source": [
        "<img src=\"https://cf-courses-data.s3.us.cloud-object-storage.appdomain.cloud/IBMDeveloperSkillsNetwork-ML311-Coursera/labs/Module4/L1/I_hate_cats.png\" width=\"550\" height=\"650\">\n"
      ]
    },
    {
      "cell_type": "markdown",
      "metadata": {
        "id": "4b510b62-3223-4b22-ad83-6d1ff94848aa"
      },
      "source": [
        "We can also represent the sequence as three one-hot-encoding vectors. We see that for each word that occurs, the value in the vector is set to one; else, they are set to zero; the dimension of both encoding vectors is equal to the number of unique words in the corpus (vocabulary). \n",
        "\n",
        "Lets see how to convert a sequence of multi-hot-encoding vectors.\n"
      ]
    },
    {
      "cell_type": "markdown",
      "metadata": {
        "id": "0ed61569-824f-4c52-ae50-51f7ed7798a3"
      },
      "source": [
        "###  Embedding\n",
        "\n",
        "An embedding layer in Keras can be used when we want to create the embedding. These embeddings are learnable parameters that embed high dimensional data into lower dimensional vectors. Lets assume we have the embedding for the vocabulary above, we can represent the vocabulary as a list of parameter vectors $[w_{I}, w_{cats}, w_{the}, w_{hate}, w_{dog}, w_{is}, w_{brown},w_{and}, w_{like }, w_{for} ] $ .   \n",
        "\n",
        "Thus, we can obtain the embedding for the sentence **\"I hate cats\"** by first performing one-hot-encoding for each token (as shown on the right) and then performing the matrix multiplication with the parameter vectors on the left: \n",
        "\n",
        "<img src=\"https://cf-courses-data.s3.us.cloud-object-storage.appdomain.cloud/IBMDeveloperSkillsNetwork-ML311-Coursera/labs/Module4/L1/Ihat_cats_embeding.png\" width=\"1000\" height=\"1200\">\n"
      ]
    },
    {
      "cell_type": "markdown",
      "metadata": {
        "id": "e631fd92-916f-4cfb-97cc-5fc533b147ae"
      },
      "source": [
        "We represent the matrix as a set of three **one-hot-encoded** column vectors. We see the resultant vector is 1x3 **(output dimension x input length)** as Keras transposes this result. The input length is the number of words in a sentence. In this case, the output dimension is one, but it is usually a free parameter that you set as the number of dimensions of the low-dimensional space. \n",
        "\n",
        "We see that the operation is wasteful as we are multiplying many vectors by zeros. In real world applications, the one-hot-encoding is thousands of dimensions long. As a result, we use an **embedding layer**; this layer simply **outputs the parameters given the indexes**, as shown below. We can use these embeddings as the input to a neural network. Note that the parameters of an embedding layer are randomly initialized and are updated when training the neural network, just like the fully connected layers:\n"
      ]
    },
    {
      "cell_type": "markdown",
      "metadata": {
        "id": "29c1d90d-2d40-466e-b804-2a1c5e67e3bf"
      },
      "source": [
        "<img src=\"https://cf-courses-data.s3.us.cloud-object-storage.appdomain.cloud/IBMDeveloperSkillsNetwork-ML311-Coursera/labs/Module4/L1/I_hate_cats_embeding.png\" width=\"1000\" height=\"1200\">\n"
      ]
    },
    {
      "cell_type": "markdown",
      "metadata": {
        "id": "4cd159b0-b2da-428e-be64-ef57867b53d2"
      },
      "source": [
        "## Tokenizer in Keras\n"
      ]
    },
    {
      "cell_type": "markdown",
      "metadata": {
        "id": "5dc8947b-e45e-45ad-adef-5649fbd3e77f"
      },
      "source": [
        "Keras has the class ``Tokenizer`` that allows you to vectorize a text by turning each word into either a sequence of integers or a vector where the coefficient for each token is binary, based on word count. We will use the following parameters:\n",
        "\n",
        "```num_words```: the maximum number of words to keep in a sentence, based on the highest word frequencies, that is, only the **most common** ``num_words`` words will be kept.\n",
        "\n",
        "```filters```: a string that contains characters that will be filtered from the texts. The default is all the punctuations, tabs, line breaks, and the ' character.\n",
        "\n",
        "```lower```: boolean type, indicates whether to convert the texts to lowercase.\n",
        "\n",
        "```split```: str, indicates the separator for word splitting.\n",
        "\n",
        "We create the ```Tokenizer``` object:\n"
      ]
    },
    {
      "cell_type": "code",
      "metadata": {
        "id": "0f82f3ee-1157-4f7d-bc70-59058ef7988e"
      },
      "outputs": [],
      "source": [
        "tokenizer = Tokenizer(num_words=11)"
      ],
      "execution_count": 6
    },
    {
      "cell_type": "markdown",
      "metadata": {
        "id": "d8891cc3-c67e-41a1-ae1b-ac8113b32db2"
      },
      "source": [
        "To fit the tokenizer to our text data, we call the method ```fit_on_texts```. The layer will build a corpus (vocabulary) of all string tokens obtained from the samples, and each word in the vocabulary will be represented by an integer or a vector.\n"
      ]
    },
    {
      "cell_type": "code",
      "metadata": {
        "id": "410f4874-167e-4b49-aec9-ddeab3e5a199"
      },
      "outputs": [],
      "source": [
        "tokenizer.fit_on_texts(samples) "
      ],
      "execution_count": 9
    },
    {
      "cell_type": "markdown",
      "metadata": {
        "id": "d403790e-2f44-4d69-8d01-c67903b87788"
      },
      "source": [
        "The attribute ```word_counts``` is a list of words, tokens, and the corresponding number of times they appeared in the samples:\n"
      ]
    },
    {
      "cell_type": "code",
      "metadata": {
        "colab": {
          "base_uri": "https://localhost:8080/"
        },
        "id": "ff05922f-c401-422d-8176-fd7dc5dfaedd",
        "outputId": "6bff3e43-2fd5-428f-eee6-9440ef32da8b"
      },
      "outputs": [
        {
          "output_type": "execute_result",
          "data": {
            "text/plain": [
              "OrderedDict([('i', 2),\n",
              "             ('hate', 1),\n",
              "             ('cats', 2),\n",
              "             ('the', 2),\n",
              "             ('dog', 1),\n",
              "             ('is', 1),\n",
              "             ('brown', 1),\n",
              "             ('and', 1),\n",
              "             ('like', 1),\n",
              "             ('for', 1)])"
            ]
          },
          "metadata": {},
          "execution_count": 10
        }
      ],
      "source": [
        "word_counts=tokenizer.word_counts\n",
        "word_counts"
      ],
      "execution_count": 10
    },
    {
      "cell_type": "markdown",
      "metadata": {
        "id": "3060eaeb-cad5-472e-8b6b-bbe99ac583f7"
      },
      "source": [
        "We can use the method ```texts_to_matrix``` to perform multi-hot encoding, where each element of the resultant vector is set to one if the corresponding word exists in the sequence; else, the element is set to zero. Here we perform multi-hot encoding for each word in the different sequences:\n"
      ]
    },
    {
      "cell_type": "code",
      "source": [
        "for key in tokenizer.word_counts.keys():\n",
        "    print(key,\" : \", end='')\n",
        "    print(tokenizer.texts_to_matrix([key]))"
      ],
      "metadata": {
        "colab": {
          "base_uri": "https://localhost:8080/"
        },
        "id": "x0wRJ6J8Wn5t",
        "outputId": "cc7ec080-ce71-4bed-987b-2450076ab5f2"
      },
      "execution_count": 13,
      "outputs": [
        {
          "output_type": "stream",
          "name": "stdout",
          "text": [
            "i  : [[0. 1. 0. 0. 0. 0. 0. 0. 0. 0. 0.]]\n",
            "hate  : [[0. 0. 0. 0. 1. 0. 0. 0. 0. 0. 0.]]\n",
            "cats  : [[0. 0. 1. 0. 0. 0. 0. 0. 0. 0. 0.]]\n",
            "the  : [[0. 0. 0. 1. 0. 0. 0. 0. 0. 0. 0.]]\n",
            "dog  : [[0. 0. 0. 0. 0. 1. 0. 0. 0. 0. 0.]]\n",
            "is  : [[0. 0. 0. 0. 0. 0. 1. 0. 0. 0. 0.]]\n",
            "brown  : [[0. 0. 0. 0. 0. 0. 0. 1. 0. 0. 0.]]\n",
            "and  : [[0. 0. 0. 0. 0. 0. 0. 0. 1. 0. 0.]]\n",
            "like  : [[0. 0. 0. 0. 0. 0. 0. 0. 0. 1. 0.]]\n",
            "for  : [[0. 0. 0. 0. 0. 0. 0. 0. 0. 0. 1.]]\n"
          ]
        }
      ]
    },
    {
      "cell_type": "markdown",
      "metadata": {
        "id": "3d4cbf75-38d5-43ea-9cad-a22bc456e610"
      },
      "source": [
        "As there is a total of ten words in the sequence, the vector has ten elements; each element in the vector corresponds to a different word. \n"
      ]
    },
    {
      "cell_type": "code",
      "metadata": {
        "colab": {
          "base_uri": "https://localhost:8080/"
        },
        "id": "09dac2a1-dd18-4f52-84ca-b51a19f4f9a4",
        "outputId": "6f1619d3-4f78-452b-a543-f629dd58220b"
      },
      "outputs": [
        {
          "output_type": "stream",
          "name": "stdout",
          "text": [
            "I hate cats  : [[0. 1. 1. 0. 1. 0. 0. 0. 0. 0. 0.]]\n",
            "the dog is brown and I like cats  : [[0. 1. 1. 1. 0. 1. 1. 1. 1. 1. 0.]]\n",
            "for the  : [[0. 0. 0. 1. 0. 0. 0. 0. 0. 0. 1.]]\n"
          ]
        }
      ],
      "source": [
        "for sample  in samples:\n",
        "    \n",
        "    print(sample,\" : \", end='')\n",
        "    print(tokenizer.texts_to_matrix([sample]))"
      ],
      "execution_count": 15
    },
    {
      "cell_type": "markdown",
      "metadata": {
        "id": "8f2e90d1-6158-4351-9a7a-13afd4a546b4"
      },
      "source": [
        "We can also apply different NLP transformations using the parameter ```mode```.\n"
      ]
    },
    {
      "cell_type": "code",
      "metadata": {
        "colab": {
          "base_uri": "https://localhost:8080/"
        },
        "id": "c87708eb-2703-4ff7-b528-e745127c0e72",
        "outputId": "e4f7f0d7-6217-46b1-e07d-5bc1bf3748a2"
      },
      "outputs": [
        {
          "output_type": "stream",
          "name": "stdout",
          "text": [
            "mode :  binary  : I hate cats  : [[0. 1. 1. 0. 1. 0. 0. 0. 0. 0. 0.]]\n",
            "the dog is brown and I like cats  : [[0. 1. 1. 1. 0. 1. 1. 1. 1. 1. 0.]]\n",
            "for the  : [[0. 0. 0. 1. 0. 0. 0. 0. 0. 0. 1.]]\n",
            "mode :  count  : I hate cats  : [[0. 1. 1. 0. 1. 0. 0. 0. 0. 0. 0.]]\n",
            "the dog is brown and I like cats  : [[0. 1. 1. 1. 0. 1. 1. 1. 1. 1. 0.]]\n",
            "for the  : [[0. 0. 0. 1. 0. 0. 0. 0. 0. 0. 1.]]\n",
            "mode :  tfidf  : I hate cats  : [[0.         0.69314718 0.69314718 0.         0.91629073 0.\n",
            "  0.         0.         0.         0.         0.        ]]\n",
            "the dog is brown and I like cats  : [[0.         0.69314718 0.69314718 0.69314718 0.         0.91629073\n",
            "  0.91629073 0.91629073 0.91629073 0.91629073 0.        ]]\n",
            "for the  : [[0.         0.         0.         0.69314718 0.         0.\n",
            "  0.         0.         0.         0.         0.91629073]]\n",
            "mode :  freq  : I hate cats  : [[0.         0.33333333 0.33333333 0.         0.33333333 0.\n",
            "  0.         0.         0.         0.         0.        ]]\n",
            "the dog is brown and I like cats  : [[0.    0.125 0.125 0.125 0.    0.125 0.125 0.125 0.125 0.125 0.   ]]\n",
            "for the  : [[0.  0.  0.  0.5 0.  0.  0.  0.  0.  0.  0.5]]\n"
          ]
        }
      ],
      "source": [
        "modes=[ \"binary\", \"count\", \"tfidf\", \"freq\"]\n",
        "for mode in modes: \n",
        "    print(\"mode : \",mode,' : ', end='')\n",
        "    for sample  in samples:\n",
        "        \n",
        "        print(sample,\" : \", end='')\n",
        "        print(tokenizer.texts_to_matrix([sample],mode=mode))"
      ],
      "execution_count": 19
    },
    {
      "cell_type": "markdown",
      "metadata": {
        "id": "dec7af55-e908-480e-bb2b-412c6667dab6"
      },
      "source": [
        "In many cases, Multi-hot encoding is redundant. As a result, we use the method ```texts_to_sequences```. This method will output an integer sequence where each integer corresponds to the index of the element in the corpus. The sequence length is equal to the number of words or tokens in the input sequence, as opposed to the number of words in the entire vocabulary like in Multi-hot encoding.\n"
      ]
    },
    {
      "cell_type": "code",
      "metadata": {
        "colab": {
          "base_uri": "https://localhost:8080/"
        },
        "id": "bf405af4-af17-4e5c-9bfb-274f2d37c95c",
        "outputId": "4cbf5034-bf9b-44be-a167-b27279ebe573"
      },
      "outputs": [
        {
          "output_type": "stream",
          "name": "stdout",
          "text": [
            "I hate cats  : [[1, 4, 2]]\n",
            "the dog is brown and I like cats  : [[3, 5, 6, 7, 8, 1, 9, 2]]\n",
            "for the  : [[10, 3]]\n"
          ]
        }
      ],
      "source": [
        "for sample  in samples:\n",
        "    \n",
        "    print(sample,\" : \", end='')\n",
        "    print(tokenizer.texts_to_sequences([sample]))"
      ],
      "execution_count": 53
    },
    {
      "cell_type": "markdown",
      "metadata": {
        "id": "2184d9df-f951-444a-9771-622b9f13846c"
      },
      "source": [
        "\n",
        "\n",
        "\n",
        "\n",
        "### Input Dimension \n"
      ]
    },
    {
      "cell_type": "markdown",
      "metadata": {
        "id": "b3789952-009e-4e95-a3f4-c8d3d8c6bfd8"
      },
      "source": [
        "Let's look at an example where we want to output the integer **input_dim**, which is the size of the vocabulary or maximum integer index.\n"
      ]
    },
    {
      "cell_type": "code",
      "metadata": {
        "colab": {
          "base_uri": "https://localhost:8080/"
        },
        "id": "b9ab756a-227d-45d0-90b9-2e66ff3099b6",
        "outputId": "6cd73433-33a9-4058-8649-3ea6b24e2e53"
      },
      "outputs": [
        {
          "output_type": "stream",
          "name": "stdout",
          "text": [
            "Model: \"sequential\"\n",
            "_________________________________________________________________\n",
            " Layer (type)                Output Shape              Param #   \n",
            "=================================================================\n",
            " embedding (Embedding)       (None, 1, 1)              3         \n",
            "                                                                 \n",
            "=================================================================\n",
            "Total params: 3\n",
            "Trainable params: 3\n",
            "Non-trainable params: 0\n",
            "_________________________________________________________________\n"
          ]
        }
      ],
      "source": [
        "import tensorflow as tf\n",
        "from tensorflow.keras.layers import Embedding, Dense, Flatten\n",
        "from tensorflow.keras.models import Sequential\n",
        "from tensorflow.keras import Input\n",
        "\n",
        "import numpy as np\n",
        "\n",
        "\n",
        "model = Sequential()\n",
        "\n",
        "input_dim=3\n",
        "output_dim=1\n",
        "input_length=1\n",
        "model.add(Embedding(input_dim=input_dim, output_dim=output_dim,input_length=input_length))\n",
        "\n",
        "model.summary()"
      ],
      "execution_count": 21
    },
    {
      "cell_type": "markdown",
      "metadata": {
        "id": "4203d104-def0-4f55-b2e1-fabe036944ff"
      },
      "source": [
        "Keras randomly initialize the weights, so let's set each weight to the index it belongs to:\n"
      ]
    },
    {
      "cell_type": "code",
      "metadata": {
        "colab": {
          "base_uri": "https://localhost:8080/"
        },
        "id": "4187abbe-e5d6-402e-b3aa-da0884bcb13f",
        "outputId": "183592d1-4c23-4825-d48c-689d9b3521a6"
      },
      "outputs": [
        {
          "output_type": "execute_result",
          "data": {
            "text/plain": [
              "[array([[0.],\n",
              "        [1.],\n",
              "        [2.]], dtype=float32)]"
            ]
          },
          "metadata": {},
          "execution_count": 22
        }
      ],
      "source": [
        "model.get_weights()\n",
        "weights=np.array([0,1,2]).reshape(-1,1)\n",
        "\n",
        "model.set_weights([weights])\n",
        "model.get_weights()"
      ],
      "execution_count": 22
    },
    {
      "cell_type": "markdown",
      "metadata": {
        "id": "ed7b8563-c414-4faa-8a45-9f7ad5575dbd"
      },
      "source": [
        "We can apply the function to each integer. The embedding layer will return the parameter value(s) or vector(s) on the position(s) which have the index value(s) equal to the integer(s) in the sequence.\n"
      ]
    },
    {
      "cell_type": "code",
      "metadata": {
        "colab": {
          "base_uri": "https://localhost:8080/"
        },
        "id": "baa80b44-13b1-40a2-b6ee-b2a00a73c0f7",
        "outputId": "814f76b8-8378-494b-ef90-12500cb14540"
      },
      "outputs": [
        {
          "output_type": "stream",
          "name": "stdout",
          "text": [
            "input x=0\n",
            "1/1 [==============================] - 0s 176ms/step\n",
            "output z=[[[0.0]]]\n",
            "input x=1\n",
            "1/1 [==============================] - 0s 23ms/step\n",
            "output z=[[[1.0]]]\n",
            "input x=2\n",
            "1/1 [==============================] - 0s 24ms/step\n",
            "output z=[[[2.0]]]\n"
          ]
        }
      ],
      "source": [
        "for n in range(3):\n",
        "    x=np.array([[n]])\n",
        "    print(\"input x={}\".format(n))\n",
        "    z=model.predict(x)\n",
        "    print(\"output z={}\".format(z.tolist()))"
      ],
      "execution_count": 23
    },
    {
      "cell_type": "markdown",
      "metadata": {
        "id": "0a04b288-7bd9-4f08-9992-a47d77086abe"
      },
      "source": [
        "We can also apply the method to multiple samples, by making each sample a different sample in the batch dimension or as multiple samples in a row:\n"
      ]
    },
    {
      "cell_type": "code",
      "metadata": {
        "colab": {
          "base_uri": "https://localhost:8080/"
        },
        "id": "5f00e47f-1c11-4b5f-a6a4-b11e1240121c",
        "outputId": "087329af-f591-4122-ce38-1ad404637196"
      },
      "outputs": [
        {
          "output_type": "stream",
          "name": "stdout",
          "text": [
            "1/1 [==============================] - 0s 41ms/step\n",
            "different samples in the batch dimension:\n",
            " [[[0.]]\n",
            "\n",
            " [[1.]]\n",
            "\n",
            " [[2.]]]\n",
            "1/1 [==============================] - 0s 70ms/step\n",
            " multiple samples in a row: \n",
            " [[0.]\n",
            " [1.]\n",
            " [2.]]\n"
          ]
        }
      ],
      "source": [
        "z = model.predict([[0],[1],[2]])\n",
        "print(\"different samples in the batch dimension:\\n\",z)\n",
        "z = model.predict([0,1,2])\n",
        "print(\" multiple samples in a row: \\n\",z)"
      ],
      "execution_count": 24
    },
    {
      "cell_type": "markdown",
      "metadata": {
        "id": "5b7dd901-08a8-4f42-88a4-a9ea4e759500"
      },
      "source": [
        "If you use the ```Sequential``` class, you must specify the input shape ```input_length``` so the model can be built with the proper set of parameters; ```input_length``` is the size of each input sequence.\n"
      ]
    },
    {
      "cell_type": "markdown",
      "metadata": {
        "id": "1ba05544-eb09-4fca-be1b-7d045c94a1b3"
      },
      "source": [
        "### Output shape\n",
        "\n",
        "Output shape is the number of parameters, using the matrix multiplication analogy: if the input is a multi-hot encoding column vector and the embedding is a matrix, the ```output_dim``` is the number of columns in the matrix. Consider the example of converting a number to its binary number equivalent, and we will represent each element of the binary number as a different dimension in the output. \n",
        "\n",
        "Let's convert the numbers from 0 to 3. As we have four numbers the parameter ```input_dim=4```. As we need two binary digits or bits to represent the numbers from one to three the ```output_dim=2```.\n"
      ]
    },
    {
      "cell_type": "code",
      "metadata": {
        "colab": {
          "base_uri": "https://localhost:8080/"
        },
        "id": "eed746ec-e0fd-4d5c-8b2a-c56d0acf4d6c",
        "outputId": "88d4e8db-445b-4c0c-fe09-746665e72b05"
      },
      "outputs": [
        {
          "output_type": "stream",
          "name": "stdout",
          "text": [
            "Model: \"sequential_1\"\n",
            "_________________________________________________________________\n",
            " Layer (type)                Output Shape              Param #   \n",
            "=================================================================\n",
            " embedding_1 (Embedding)     (None, 1, 2)              8         \n",
            "                                                                 \n",
            "=================================================================\n",
            "Total params: 8\n",
            "Trainable params: 8\n",
            "Non-trainable params: 0\n",
            "_________________________________________________________________\n"
          ]
        }
      ],
      "source": [
        "input_dim=4\n",
        "output_dim=2\n",
        "input_length=1\n",
        "model = Sequential()\n",
        "model.add(Embedding(input_dim=input_dim, output_dim=output_dim, input_length=input_length))\n",
        "model.summary()"
      ],
      "execution_count": 25
    },
    {
      "cell_type": "markdown",
      "metadata": {
        "id": "f777095e-e364-49e4-aa04-6ce1aec2ada9"
      },
      "source": [
        "We assign the ```weights``` to represent binary numbers;\n"
      ]
    },
    {
      "cell_type": "code",
      "metadata": {
        "colab": {
          "base_uri": "https://localhost:8080/"
        },
        "id": "2784201c-9eb8-4f7b-95f4-86def0e5ba46",
        "outputId": "cf043cee-09cd-495b-8dcb-6de97d418404"
      },
      "outputs": [
        {
          "output_type": "execute_result",
          "data": {
            "text/plain": [
              "[array([[0., 0.],\n",
              "        [0., 1.],\n",
              "        [1., 0.],\n",
              "        [1., 1.]], dtype=float32)]"
            ]
          },
          "metadata": {},
          "execution_count": 26
        }
      ],
      "source": [
        "weights=np.array([[0,0],[0,1],[1,0],[1,1]])\n",
        "model.set_weights([weights])\n",
        "model.get_weights()"
      ],
      "execution_count": 26
    },
    {
      "cell_type": "markdown",
      "metadata": {
        "id": "22a59df8-5d4f-447b-a21d-5f7b7c8730b8"
      },
      "source": [
        "For each input integer, the output of the embedding is the corresponding binary number:\n"
      ]
    },
    {
      "cell_type": "code",
      "metadata": {
        "colab": {
          "base_uri": "https://localhost:8080/"
        },
        "id": "e3792351-c4a1-49ef-8807-11ee6e5b582a",
        "outputId": "83c44f6d-fcdd-43c8-fbab-1f762a0f28db"
      },
      "outputs": [
        {
          "output_type": "stream",
          "name": "stdout",
          "text": [
            "input x=0\n",
            "1/1 [==============================] - 0s 49ms/step\n",
            "input binary=[[[0.0, 0.0]]]\n",
            "input x=1\n",
            "1/1 [==============================] - 0s 23ms/step\n",
            "input binary=[[[0.0, 1.0]]]\n",
            "input x=2\n",
            "1/1 [==============================] - 0s 24ms/step\n",
            "input binary=[[[1.0, 0.0]]]\n",
            "input x=3\n",
            "1/1 [==============================] - 0s 26ms/step\n",
            "input binary=[[[1.0, 1.0]]]\n"
          ]
        }
      ],
      "source": [
        "for n in range(4):\n",
        "    x=np.array([[n]])\n",
        "    print(\"input x={}\".format(n))\n",
        "    z=model.predict(x)\n",
        "    print(\"input binary={}\".format(z.tolist() ))"
      ],
      "execution_count": 27
    },
    {
      "cell_type": "markdown",
      "metadata": {
        "id": "c38c6bb0-59d1-4387-b61a-8fb9a6be1510"
      },
      "source": [
        "in order to use the embedding, we go with seqeuntial \n"
      ]
    },
    {
      "cell_type": "markdown",
      "metadata": {
        "id": "c67bae01-7ed3-47ce-92fa-b445e89a37a4"
      },
      "source": [
        "### Padding Sequences\n"
      ]
    },
    {
      "cell_type": "markdown",
      "metadata": {
        "id": "0a90a0e2-6e29-40d2-b5d3-557cd28d5c1f"
      },
      "source": [
        "Usually, sequences are of different lengths. Consider our original sequence:\n"
      ]
    },
    {
      "cell_type": "code",
      "metadata": {
        "colab": {
          "base_uri": "https://localhost:8080/"
        },
        "id": "24b90096-8e0b-4da4-924b-14438b623223",
        "outputId": "94a0fbda-fd21-4764-85b9-d48bfdc13097"
      },
      "outputs": [
        {
          "output_type": "stream",
          "name": "stdout",
          "text": [
            "sample: I hate cats\n",
            "length: 11\n",
            "sample: the dog is brown and I like cats\n",
            "length: 32\n",
            "sample: for the\n",
            "length: 7\n"
          ]
        }
      ],
      "source": [
        "samples=['I hate cats','the dog is brown and I like cats','for the']\n",
        "for sample in samples:\n",
        "    print(\"sample:\",sample)\n",
        "    print(\"length:\",len(sample))"
      ],
      "execution_count": 28
    },
    {
      "cell_type": "markdown",
      "metadata": {
        "id": "b6a724e8-fee1-4bba-a318-debf3261d57d"
      },
      "source": [
        "When we apply the ```Tokenizer``` we apply the method ```texts_to_sequences``` we see each sequence is also a different length:\n"
      ]
    },
    {
      "cell_type": "code",
      "metadata": {
        "colab": {
          "base_uri": "https://localhost:8080/"
        },
        "id": "54d8972a-22d6-46cb-ad1a-9c5fbd99cc93",
        "outputId": "0ded64a2-8e22-4900-d29b-0c0a82cd719b"
      },
      "outputs": [
        {
          "output_type": "stream",
          "name": "stdout",
          "text": [
            "tokens [[1, 4, 2], [3, 5, 6, 7, 8, 1, 9, 2], [10, 3]]\n"
          ]
        }
      ],
      "source": [
        "tokenizer = Tokenizer(num_words=12)\n",
        "tokenizer.fit_on_texts(samples) \n",
        "tokens=tokenizer.texts_to_sequences(samples)\n",
        "print(\"tokens\",tokens)"
      ],
      "execution_count": 29
    },
    {
      "cell_type": "markdown",
      "metadata": {
        "id": "b1622b51-88e0-4d21-9188-f0d50c159c3e"
      },
      "source": [
        "To make sure the sequences are the same length, we apply the function ```pad_sequences```. The function transforms a sequence into a 2D Numpy array with the number of rows equal to the number of samples and the number of columns equal to the parameter ```maxlen``` (the length of the longest sequence in the list). Sequences that are shorter than ```maxlen``` are padded with the parameter ```value```, which is by default zero. \n",
        "\n",
        "Consider the following example:\n"
      ]
    },
    {
      "cell_type": "code",
      "metadata": {
        "colab": {
          "base_uri": "https://localhost:8080/"
        },
        "id": "f3150e36-0625-40e8-8402-ae9ee10e1323",
        "outputId": "fb7ec6ec-23c3-48af-a115-1e5e6fc690e3"
      },
      "outputs": [
        {
          "output_type": "execute_result",
          "data": {
            "text/plain": [
              "array([[ 0,  0,  0,  0,  0,  0,  1,  4,  2],\n",
              "       [ 0,  3,  5,  6,  7,  8,  1,  9,  2],\n",
              "       [ 0,  0,  0,  0,  0,  0,  0, 10,  3]], dtype=int32)"
            ]
          },
          "metadata": {},
          "execution_count": 30
        }
      ],
      "source": [
        "maxlen=9\n",
        "x =pad_sequences(tokens, maxlen=maxlen,value=0)\n",
        "x"
      ],
      "execution_count": 30
    },
    {
      "cell_type": "markdown",
      "metadata": {
        "id": "0fdb74f2-e106-4ffd-a272-4d212ee591cd"
      },
      "source": [
        "We see the padding proceeds the integer values, but we can also set padding to follow the integers through ```padding = \"post\"```.\n"
      ]
    },
    {
      "cell_type": "code",
      "metadata": {
        "colab": {
          "base_uri": "https://localhost:8080/"
        },
        "id": "ae80bb39-1a7f-47f1-b040-a09b56d51303",
        "outputId": "2d16a0c2-dfc8-4d20-c185-6e75438e3d1f"
      },
      "outputs": [
        {
          "output_type": "execute_result",
          "data": {
            "text/plain": [
              "array([[ 1,  4,  2,  0,  0,  0,  0,  0,  0],\n",
              "       [ 3,  5,  6,  7,  8,  1,  9,  2,  0],\n",
              "       [10,  3,  0,  0,  0,  0,  0,  0,  0]], dtype=int32)"
            ]
          },
          "metadata": {},
          "execution_count": 31
        }
      ],
      "source": [
        "maxlen=9\n",
        "x =pad_sequences(tokens, maxlen=maxlen,padding=\"post\")\n",
        "x"
      ],
      "execution_count": 31
    },
    {
      "cell_type": "markdown",
      "metadata": {
        "id": "73747c5e-57ef-46f3-9f79-205284fe2ed8"
      },
      "source": [
        "If we decrease the value for ```maxlen```, the function will ```truncate``` the sequences, that is, making sequences that are longer than `maxlen` shorter.\n"
      ]
    },
    {
      "cell_type": "code",
      "metadata": {
        "colab": {
          "base_uri": "https://localhost:8080/"
        },
        "id": "1aed3361-fefe-49b5-889e-f94d6e20631a",
        "outputId": "dd3a2600-0df3-48d3-c380-97764419a423"
      },
      "outputs": [
        {
          "output_type": "execute_result",
          "data": {
            "text/plain": [
              "array([[ 0,  0,  1,  4,  2],\n",
              "       [ 7,  8,  1,  9,  2],\n",
              "       [ 0,  0,  0, 10,  3]], dtype=int32)"
            ]
          },
          "metadata": {},
          "execution_count": 32
        }
      ],
      "source": [
        "maxlen=5\n",
        "x =pad_sequences(tokens, maxlen=maxlen)\n",
        "x"
      ],
      "execution_count": 32
    },
    {
      "cell_type": "markdown",
      "metadata": {
        "id": "3c819105-f685-4cdd-8ab8-b527194aa1c4"
      },
      "source": [
        "We see the function truncates the values from sequences longer than ```maxlen``` at the beginning of the sequence. We can also set ```truncating = \"post\"```to  truncate the values from the end.\n"
      ]
    },
    {
      "cell_type": "markdown",
      "metadata": {
        "id": "81b2c756-c0a8-4181-9a16-52704f626a91"
      },
      "source": [
        "## Sentiment Analysis \n"
      ]
    },
    {
      "cell_type": "markdown",
      "metadata": {
        "id": "f296b456-893b-4e25-b03f-4d95eeb98005"
      },
      "source": [
        "Now that we have the sequence, , and embedding layers, we can use a neural network to classify our text data. Sentiment analysis in natural language processing is a technique used to determine opinions, appraisals, emotions, or attitudes towards a topic, person, or entity. \n",
        "\n",
        "Consider the IMDB dataset of 25,000 movie reviews from IMDB, labeled positive (y=0) and negative (y=1). In this dateset, the reviews have been pre-processed, and each review is encoded as a list of word indexes (integers). The words are indexed by overall frequency in the dataset so that for instance, the integer \"3\" encodes the 3rd most frequent word in the data. We will \"only consider the top 10,000 most common words, but eliminate the top 20 most common words for more on the dataset check out <a href=\"https://keras.io/api/datasets/imdb/?utm_medium=Exinfluencer&utm_source=Exinfluencer&utm_content=000026UJ&utm_term=10006555&utm_id=NA-SkillsNetwork-Channel-SkillsNetworkCoursesIBMDeveloperSkillsNetworkML311Coursera747-2022-01-01\">here </a>. We download the dataset:\n"
      ]
    },
    {
      "cell_type": "code",
      "metadata": {
        "id": "0149c549-b86a-4ffb-a7d9-257719ad5cd8"
      },
      "outputs": [],
      "source": [
        "from keras.datasets import imdb"
      ],
      "execution_count": 67
    },
    {
      "cell_type": "code",
      "metadata": {
        "id": "ed5b1f9f-ba50-4a43-92fd-585edf213f69"
      },
      "outputs": [],
      "source": [
        "max_features = 10000\n",
        "\n",
        "# change the default parameter of np to allow_pickle=True\n",
        "np.load.__defaults__=(None, True, True, 'ASCII')\n",
        "importlib.reload(np)\n",
        "\n",
        "(x_train, y_train), (x_test, y_test) = imdb.load_data(num_words=max_features )"
      ],
      "execution_count": 68
    },
    {
      "cell_type": "markdown",
      "metadata": {
        "id": "00d07ef9-b640-4208-8957-59036eb07595"
      },
      "source": [
        "We print out the first three samples and we see the dataset has been tokenized: \n"
      ]
    },
    {
      "cell_type": "code",
      "metadata": {
        "colab": {
          "base_uri": "https://localhost:8080/"
        },
        "id": "61a72f32-befa-4741-9677-3618ed9b0247",
        "outputId": "3fbcb166-71ea-4900-c26d-9cfb4f9c25c8"
      },
      "outputs": [
        {
          "output_type": "stream",
          "name": "stdout",
          "text": [
            "Sequence: 0\n",
            "[1, 14, 22, 16, 43, 530, 973, 1622, 1385, 65, 458, 4468, 66, 3941, 4, 173, 36, 256, 5, 25, 100, 43, 838, 112, 50, 670, 2, 9, 35, 480, 284, 5, 150, 4, 172, 112, 167, 2, 336, 385, 39, 4, 172, 4536, 1111, 17, 546, 38, 13, 447, 4, 192, 50, 16, 6, 147, 2025, 19, 14, 22, 4, 1920, 4613, 469, 4, 22, 71, 87, 12, 16, 43, 530, 38, 76, 15, 13, 1247, 4, 22, 17, 515, 17, 12, 16, 626, 18, 2, 5, 62, 386, 12, 8, 316, 8, 106, 5, 4, 2223, 5244, 16, 480, 66, 3785, 33, 4, 130, 12, 16, 38, 619, 5, 25, 124, 51, 36, 135, 48, 25, 1415, 33, 6, 22, 12, 215, 28, 77, 52, 5, 14, 407, 16, 82, 2, 8, 4, 107, 117, 5952, 15, 256, 4, 2, 7, 3766, 5, 723, 36, 71, 43, 530, 476, 26, 400, 317, 46, 7, 4, 2, 1029, 13, 104, 88, 4, 381, 15, 297, 98, 32, 2071, 56, 26, 141, 6, 194, 7486, 18, 4, 226, 22, 21, 134, 476, 26, 480, 5, 144, 30, 5535, 18, 51, 36, 28, 224, 92, 25, 104, 4, 226, 65, 16, 38, 1334, 88, 12, 16, 283, 5, 16, 4472, 113, 103, 32, 15, 16, 5345, 19, 178, 32]\n",
            "Sequence: 1\n",
            "[1, 194, 1153, 194, 8255, 78, 228, 5, 6, 1463, 4369, 5012, 134, 26, 4, 715, 8, 118, 1634, 14, 394, 20, 13, 119, 954, 189, 102, 5, 207, 110, 3103, 21, 14, 69, 188, 8, 30, 23, 7, 4, 249, 126, 93, 4, 114, 9, 2300, 1523, 5, 647, 4, 116, 9, 35, 8163, 4, 229, 9, 340, 1322, 4, 118, 9, 4, 130, 4901, 19, 4, 1002, 5, 89, 29, 952, 46, 37, 4, 455, 9, 45, 43, 38, 1543, 1905, 398, 4, 1649, 26, 6853, 5, 163, 11, 3215, 2, 4, 1153, 9, 194, 775, 7, 8255, 2, 349, 2637, 148, 605, 2, 8003, 15, 123, 125, 68, 2, 6853, 15, 349, 165, 4362, 98, 5, 4, 228, 9, 43, 2, 1157, 15, 299, 120, 5, 120, 174, 11, 220, 175, 136, 50, 9, 4373, 228, 8255, 5, 2, 656, 245, 2350, 5, 4, 9837, 131, 152, 491, 18, 2, 32, 7464, 1212, 14, 9, 6, 371, 78, 22, 625, 64, 1382, 9, 8, 168, 145, 23, 4, 1690, 15, 16, 4, 1355, 5, 28, 6, 52, 154, 462, 33, 89, 78, 285, 16, 145, 95]\n",
            "Sequence: 2\n",
            "[1, 14, 47, 8, 30, 31, 7, 4, 249, 108, 7, 4, 5974, 54, 61, 369, 13, 71, 149, 14, 22, 112, 4, 2401, 311, 12, 16, 3711, 33, 75, 43, 1829, 296, 4, 86, 320, 35, 534, 19, 263, 4821, 1301, 4, 1873, 33, 89, 78, 12, 66, 16, 4, 360, 7, 4, 58, 316, 334, 11, 4, 1716, 43, 645, 662, 8, 257, 85, 1200, 42, 1228, 2578, 83, 68, 3912, 15, 36, 165, 1539, 278, 36, 69, 2, 780, 8, 106, 14, 6905, 1338, 18, 6, 22, 12, 215, 28, 610, 40, 6, 87, 326, 23, 2300, 21, 23, 22, 12, 272, 40, 57, 31, 11, 4, 22, 47, 6, 2307, 51, 9, 170, 23, 595, 116, 595, 1352, 13, 191, 79, 638, 89, 2, 14, 9, 8, 106, 607, 624, 35, 534, 6, 227, 7, 129, 113]\n"
          ]
        }
      ],
      "source": [
        "for i,x in enumerate(x_train[0:3]):\n",
        "    print(\"Sequence:\",i) \n",
        "    print(x)"
      ],
      "execution_count": 69
    },
    {
      "cell_type": "markdown",
      "metadata": {
        "id": "6d2e72f3-c193-471b-8018-629904120fb2"
      },
      "source": [
        "We can obtain a dictionary look-up table with the word and the integer that represents it:\n"
      ]
    },
    {
      "cell_type": "code",
      "metadata": {
        "id": "8f402ad2-d1f5-499a-aeae-690bdcf93b24"
      },
      "outputs": [],
      "source": [
        "word_index = imdb.get_word_index()"
      ],
      "execution_count": 70
    },
    {
      "cell_type": "markdown",
      "metadata": {
        "id": "ff63d437-2996-4c8b-bab5-d2f13aa2a7cf"
      },
      "source": [
        "We invert the table so the key is the integer that represents the word, and the value is the word. We assign the new dictionary to the variable ```REVERSE_LOOKUP```:\n"
      ]
    },
    {
      "cell_type": "code",
      "metadata": {
        "id": "30d2372f-3236-4946-8567-8a5dfb1e1af9"
      },
      "outputs": [],
      "source": [
        "REVERSE_LOOKUP={value:key for key, value in word_index.items()}"
      ],
      "execution_count": 71
    },
    {
      "cell_type": "markdown",
      "metadata": {
        "id": "cf05be41-4473-4370-8e49-fc2cdb86a132"
      },
      "source": [
        "The following function will use ```REVERSE_LOOKUP``` to convert an input sequence x to the original review. \n"
      ]
    },
    {
      "cell_type": "code",
      "metadata": {
        "id": "c3dc5f75-9e21-4b23-a44e-b9bc7819c171"
      },
      "outputs": [],
      "source": [
        "def get_review(x):\n",
        "     return' '.join([REVERSE_LOOKUP[index ] for index in x])"
      ],
      "execution_count": 72
    },
    {
      "cell_type": "markdown",
      "metadata": {
        "id": "a9c191b1-c67f-4eab-8e01-eb13a9aa0825"
      },
      "source": [
        "We can obtain the review for the first sample:\n"
      ]
    },
    {
      "cell_type": "code",
      "metadata": {
        "colab": {
          "base_uri": "https://localhost:8080/",
          "height": 140
        },
        "id": "fbaa0bf8-6d69-4be3-9b73-252dcd0760a7",
        "outputId": "6401745a-6119-4e6c-9775-6b6a3fe36be1"
      },
      "outputs": [
        {
          "output_type": "execute_result",
          "data": {
            "text/plain": [
              "\"the as you with out themselves powerful lets loves their becomes reaching had journalist of lot from anyone to have after out atmosphere never more room and it so heart shows to years of every never going and help moments or of every chest visual movie except her was several of enough more with is now current film as you of mine potentially unfortunately of you than him that with out themselves her get for was camp of you movie sometimes movie that with scary but and to story wonderful that in seeing in character to of 70s musicians with heart had shadows they of here that with her serious to have does when from why what have critics they is you that isn't one will very to as itself with other and in of seen over landed for anyone of and br show's to whether from than out themselves history he name half some br of and odd was two most of mean for 1 any an boat she he should is thought frog but of script you not while history he heart to real at barrel but when from one bit then have two of script their with her nobody most that with wasn't to with armed acting watch an for with heartfelt film want an\""
            ],
            "application/vnd.google.colaboratory.intrinsic+json": {
              "type": "string"
            }
          },
          "metadata": {},
          "execution_count": 73
        }
      ],
      "source": [
        "get_review(x_train[0])"
      ],
      "execution_count": 73
    },
    {
      "cell_type": "markdown",
      "metadata": {
        "id": "d7f5b02c-1667-49bd-8306-151947098eaa"
      },
      "source": [
        "Similarly, we obtain the review for the second sample:\n"
      ]
    },
    {
      "cell_type": "code",
      "metadata": {
        "colab": {
          "base_uri": "https://localhost:8080/",
          "height": 122
        },
        "id": "153afa43-3f60-413e-ac68-49e84069e164",
        "outputId": "341b1108-165f-4941-bc4f-4421ec0207fe"
      },
      "outputs": [
        {
          "output_type": "execute_result",
          "data": {
            "text/plain": [
              "\"the thought solid thought senator do making to is spot nomination assumed while he of jack in where picked as getting on was did hands fact characters to always life thrillers not as me can't in at are br of sure your way of little it strongly random to view of love it so principles of guy it used producer of where it of here icon film of outside to don't all unique some like of direction it if out her imagination below keep of queen he diverse to makes this stretch and of solid it thought begins br senator and budget worthwhile though ok and awaiting for ever better were and diverse for budget look kicked any to of making it out and follows for effects show to show cast this family us scenes more it severe making senator to and finds tv tend to of emerged these thing wants but and an beckinsale cult as it is video do you david see scenery it in few those are of ship for with of wild to one is very work dark they don't do dvd with those them\""
            ],
            "application/vnd.google.colaboratory.intrinsic+json": {
              "type": "string"
            }
          },
          "metadata": {},
          "execution_count": 74
        }
      ],
      "source": [
        "get_review(x_train[1])"
      ],
      "execution_count": 74
    },
    {
      "cell_type": "markdown",
      "metadata": {
        "id": "7d9781bd-c8eb-4929-88b8-f918836c759e"
      },
      "source": [
        "Each sample is of a different length; for example, we can print the length of the first three samples:\n"
      ]
    },
    {
      "cell_type": "code",
      "metadata": {
        "colab": {
          "base_uri": "https://localhost:8080/"
        },
        "id": "a944512d-dbf0-426d-a616-ca2a27bc2753",
        "outputId": "1de559c3-4233-49b4-f25c-e02c6ed1f5d8"
      },
      "outputs": [
        {
          "output_type": "stream",
          "name": "stdout",
          "text": [
            "length 0 of sample 218:\n",
            "length 1 of sample 189:\n",
            "length 2 of sample 141:\n"
          ]
        }
      ],
      "source": [
        "for i,x in enumerate(x_train[0:3]):\n",
        "    print(\"length {} of sample {}:\".format(i,len(x)))\n"
      ],
      "execution_count": 75
    },
    {
      "cell_type": "markdown",
      "metadata": {
        "id": "1bb1121f-f763-47f6-ba85-964acbae031d"
      },
      "source": [
        "As a result, we need to pad all the sequences using ```pad_sequences```:\n"
      ]
    },
    {
      "cell_type": "code",
      "metadata": {
        "id": "707e1c69-ca02-4687-bcf9-3d72ae987e72"
      },
      "outputs": [],
      "source": [
        "maxlen=20\n",
        "x_train =pad_sequences(x_train, maxlen=maxlen)\n",
        "x_test =pad_sequences(x_test, maxlen=maxlen)\n"
      ],
      "execution_count": 84
    },
    {
      "cell_type": "code",
      "metadata": {
        "colab": {
          "base_uri": "https://localhost:8080/"
        },
        "id": "d1ea77f9-fb2b-4bf9-a5cb-26df21103f57",
        "outputId": "18fbafdf-c3e3-4612-de95-c0550852e97b"
      },
      "outputs": [
        {
          "output_type": "execute_result",
          "data": {
            "text/plain": [
              "(25000, 20)"
            ]
          },
          "metadata": {},
          "execution_count": 43
        }
      ],
      "source": [
        "x_test.shape"
      ],
      "execution_count": 43
    },
    {
      "cell_type": "markdown",
      "metadata": {
        "id": "5ee2a4d6-92ad-4b45-a7ab-ac6c6346f967"
      },
      "source": [
        "Now we can create the embedding layer. We know the number of words is ```max_features=10000``` and therefore ```input_dim=10000```. The dimension of the output is a parameter that we set. Let's set ```output_dim=8``` and ```input_length=1``` for now.\n",
        "\n",
        "We also need to add a flattening layer using ```Flatten()```, which adds an extra dimension and will reshape the input as ```(batch, 1)```.\n"
      ]
    },
    {
      "cell_type": "code",
      "metadata": {
        "id": "85eb892d-ae57-4ad6-9f69-bd02966142a8"
      },
      "outputs": [],
      "source": [
        "model = Sequential()\n",
        "model.add(Embedding(10000, 8, input_length=20))\n",
        "model.add(Flatten())\n"
      ],
      "execution_count": 44
    },
    {
      "cell_type": "markdown",
      "metadata": {
        "id": "04e29482-84cd-4045-b8d1-69630a83ce66"
      },
      "source": [
        "We can now add a fully connected layer with `units=1` for classification:\n"
      ]
    },
    {
      "cell_type": "code",
      "metadata": {
        "colab": {
          "base_uri": "https://localhost:8080/"
        },
        "id": "bedca5ea-fd7f-4afc-b766-3462f25bbeb1",
        "outputId": "a280dde8-0a61-4612-9dc0-e0a14740a338"
      },
      "outputs": [
        {
          "output_type": "stream",
          "name": "stdout",
          "text": [
            "Model: \"sequential_2\"\n",
            "_________________________________________________________________\n",
            " Layer (type)                Output Shape              Param #   \n",
            "=================================================================\n",
            " embedding_2 (Embedding)     (None, 20, 8)             80000     \n",
            "                                                                 \n",
            " flatten (Flatten)           (None, 160)               0         \n",
            "                                                                 \n",
            " dense (Dense)               (None, 1)                 161       \n",
            "                                                                 \n",
            "=================================================================\n",
            "Total params: 80,161\n",
            "Trainable params: 80,161\n",
            "Non-trainable params: 0\n",
            "_________________________________________________________________\n"
          ]
        }
      ],
      "source": [
        "model.add(Dense(1, activation='sigmoid'))\n",
        "model.compile(optimizer='rmsprop', loss='binary_crossentropy', metrics=['acc'])\n",
        "model.summary()\n"
      ],
      "execution_count": 45
    },
    {
      "cell_type": "markdown",
      "metadata": {
        "id": "0a56555c-33aa-403a-870c-87fc0f27ad2c"
      },
      "source": [
        "Let's fit the model:\n"
      ]
    },
    {
      "cell_type": "code",
      "metadata": {
        "colab": {
          "base_uri": "https://localhost:8080/"
        },
        "id": "dbd109a8-b796-48da-8f7b-bf993a1f70ed",
        "outputId": "5ad85ebd-3631-4bb4-9a57-d412ca52bf36"
      },
      "outputs": [
        {
          "output_type": "stream",
          "name": "stdout",
          "text": [
            "Epoch 1/10\n",
            "667/667 [==============================] - 3s 3ms/step - loss: 0.6681 - acc: 0.6241 - val_loss: 0.6178 - val_acc: 0.6902\n",
            "Epoch 2/10\n",
            "667/667 [==============================] - 2s 2ms/step - loss: 0.5376 - acc: 0.7505 - val_loss: 0.5246 - val_acc: 0.7306\n",
            "Epoch 3/10\n",
            "667/667 [==============================] - 2s 2ms/step - loss: 0.4604 - acc: 0.7864 - val_loss: 0.5020 - val_acc: 0.7428\n",
            "Epoch 4/10\n",
            "667/667 [==============================] - 2s 2ms/step - loss: 0.4233 - acc: 0.8073 - val_loss: 0.4984 - val_acc: 0.7516\n",
            "Epoch 5/10\n",
            "667/667 [==============================] - 2s 2ms/step - loss: 0.3988 - acc: 0.8214 - val_loss: 0.4981 - val_acc: 0.7530\n",
            "Epoch 6/10\n",
            "667/667 [==============================] - 2s 4ms/step - loss: 0.3778 - acc: 0.8336 - val_loss: 0.5010 - val_acc: 0.7526\n",
            "Epoch 7/10\n",
            "667/667 [==============================] - 2s 3ms/step - loss: 0.3587 - acc: 0.8442 - val_loss: 0.5044 - val_acc: 0.7534\n",
            "Epoch 8/10\n",
            "667/667 [==============================] - 2s 2ms/step - loss: 0.3404 - acc: 0.8561 - val_loss: 0.5113 - val_acc: 0.7546\n",
            "Epoch 9/10\n",
            "667/667 [==============================] - 2s 2ms/step - loss: 0.3223 - acc: 0.8670 - val_loss: 0.5174 - val_acc: 0.7510\n",
            "Epoch 10/10\n",
            "667/667 [==============================] - 2s 2ms/step - loss: 0.3040 - acc: 0.8763 - val_loss: 0.5256 - val_acc: 0.7492\n"
          ]
        }
      ],
      "source": [
        "history = model.fit(x_train, y_train, epochs=10,batch_size=30,validation_split=0.2)"
      ],
      "execution_count": 46
    },
    {
      "cell_type": "markdown",
      "metadata": {
        "id": "5f59bd29-2ad3-4dcd-8096-ba80701c7ffb"
      },
      "source": [
        "We can plot the training history:\n"
      ]
    },
    {
      "cell_type": "code",
      "metadata": {
        "colab": {
          "base_uri": "https://localhost:8080/",
          "height": 545
        },
        "id": "e79ed735-cfb4-4595-84d1-6316166159bd",
        "outputId": "9bf19a7f-af9e-42d2-b1da-b7ce0bccdaf8"
      },
      "outputs": [
        {
          "output_type": "display_data",
          "data": {
            "text/plain": [
              "<Figure size 1200x600 with 2 Axes>"
            ],
            "image/png": "[encoded data removed]"
          },
          "metadata": {}
        }
      ],
      "source": [
        "display_metrics(history)"
      ],
      "execution_count": 47
    },
    {
      "cell_type": "markdown",
      "metadata": {
        "id": "a27cfd11-893b-4a21-9a68-9791aa0dce43"
      },
      "source": [
        "The output of the model is a probability as it ranges from 0 to 1, so we can use this as a proxy for the Rotten Tomatoes score:\n"
      ]
    },
    {
      "cell_type": "code",
      "metadata": {
        "colab": {
          "base_uri": "https://localhost:8080/"
        },
        "id": "906ebef7-477d-4ca7-825f-4872d5c9a596",
        "outputId": "b9694407-62e6-4bd7-de7d-44f3eb8401b1"
      },
      "outputs": [
        {
          "output_type": "stream",
          "name": "stdout",
          "text": [
            "1/1 [==============================] - 0s 63ms/step\n"
          ]
        }
      ],
      "source": [
        "p_yx=model.predict(x_test[0:10])"
      ],
      "execution_count": 48
    },
    {
      "cell_type": "markdown",
      "metadata": {
        "id": "ee0a2c2f-b234-4417-ac89-452b9b331df7"
      },
      "source": [
        "We can obtain the the rating using the helper function ```rotten_tomato_score``` which maps a probability to a prediction:\n"
      ]
    },
    {
      "cell_type": "code",
      "metadata": {
        "colab": {
          "base_uri": "https://localhost:8080/"
        },
        "id": "77b829ad-1bea-49e6-bf78-54413d934cbc",
        "outputId": "26bd632f-119d-48fb-9da2-435eefea0030"
      },
      "outputs": [
        {
          "output_type": "execute_result",
          "data": {
            "text/plain": [
              "['rotten',\n",
              " 'fresh',\n",
              " 'fresh',\n",
              " 'fresh',\n",
              " 'fresh',\n",
              " 'rotten',\n",
              " 'rotten',\n",
              " 'rotten',\n",
              " 'rotten',\n",
              " 'rotten']"
            ]
          },
          "metadata": {},
          "execution_count": 49
        }
      ],
      "source": [
        "rotten_tomato_score(p_yx)"
      ],
      "execution_count": 49
    },
    {
      "cell_type": "markdown",
      "metadata": {
        "id": "6d03dd8c-9c15-4471-bea7-258de8bba02e"
      },
      "source": [
        "### Visualizing the embedding  weights\n"
      ]
    },
    {
      "cell_type": "markdown",
      "metadata": {
        "id": "c68b737f-b759-45a0-bb05-a357ad2826b2"
      },
      "source": [
        "The weights in the embedding layer contain correlations between words. Let's obtain the embedding weights:\n"
      ]
    },
    {
      "cell_type": "code",
      "metadata": {
        "id": "fdfac2ee-cada-468c-a55f-a361e2111c23"
      },
      "outputs": [],
      "source": [
        "weights=model.layers[0].get_weights()[0]"
      ],
      "execution_count": 50
    },
    {
      "cell_type": "markdown",
      "metadata": {
        "id": "90feb602-5909-49bb-8849-d630310126b3"
      },
      "source": [
        "There are 10,000 words so there are 10,000 different parameter vectors, each has 8 dimensions:\n"
      ]
    },
    {
      "cell_type": "code",
      "metadata": {
        "colab": {
          "base_uri": "https://localhost:8080/"
        },
        "id": "b115498f-7962-45de-931f-018675f722ed",
        "outputId": "46a376d4-4d41-422f-d983-22f41d1ac267"
      },
      "outputs": [
        {
          "output_type": "execute_result",
          "data": {
            "text/plain": [
              "(10000, 8)"
            ]
          },
          "metadata": {},
          "execution_count": 51
        }
      ],
      "source": [
        "weights.shape"
      ],
      "execution_count": 51
    },
    {
      "cell_type": "markdown",
      "metadata": {
        "id": "e817afd8-f278-4d8e-92bb-9d3aae92af16"
      },
      "source": [
        "We can't visualize the vector as it's 8-dimensional, but we can use **T-distributed Stochastic Neighbor Embedding (TSNE)** to reduce the dimension to two for visualizing the embeddings on a 2D plot:\n"
      ]
    },
    {
      "cell_type": "code",
      "metadata": {
        "id": "8c2947c5-8b88-436d-b3aa-5c79cea4ee90"
      },
      "outputs": [],
      "source": [
        "from sklearn.manifold import TSNE\n",
        "tsne = TSNE(n_components=2)\n",
        "X_embedded = tsne.fit_transform(weights)"
      ],
      "execution_count": 77
    },
    {
      "cell_type": "markdown",
      "metadata": {
        "id": "df0c08b1-ae10-4058-8d15-e24a5f2177ec"
      },
      "source": [
        "Now that the embeddings are transformed let's use the helper function ```plot_embedding``` to visualize them. The starting word index is ```start```, and ```stop``` is the index of the last word; ```sample``` is the number of samples between samples.\n"
      ]
    },
    {
      "cell_type": "code",
      "metadata": {
        "colab": {
          "base_uri": "https://localhost:8080/",
          "height": 430
        },
        "id": "dbee5332-936e-4b5f-a703-7cd99105b927",
        "outputId": "d01d0188-fb2b-400c-d98a-bcb9b44f2e69"
      },
      "outputs": [
        {
          "output_type": "display_data",
          "data": {
            "text/plain": [
              "<Figure size 640x480 with 1 Axes>"
            ],
            "image/png": "[encoded data removed]"
          },
          "metadata": {}
        }
      ],
      "source": [
        "start=1\n",
        "stop=600\n",
        "sample=10\n",
        "plot_embedding(X_embedded,start,stop,sample)\n"
      ],
      "execution_count": 82
    },
    {
      "cell_type": "markdown",
      "metadata": {
        "id": "8de1aaf5-7640-4bc4-ad75-9aea0200cca7"
      },
      "source": [
        "We see words like \"war\", \"evil\", and \"killer\" are clustered in the lower-right quadrant.\n"
      ]
    },
    {
      "cell_type": "code",
      "metadata": {
        "colab": {
          "base_uri": "https://localhost:8080/",
          "height": 430
        },
        "id": "e0522740-ff8e-4b0c-b3a2-0f271ec0b5a7",
        "outputId": "976e433f-25fe-4fd3-b1ac-2f8fb77a7319"
      },
      "outputs": [
        {
          "output_type": "display_data",
          "data": {
            "text/plain": [
              "<Figure size 640x480 with 1 Axes>"
            ],
            "image/png": "[encoded data removed]"
          },
          "metadata": {}
        }
      ],
      "source": [
        "start=1\n",
        "stop=100\n",
        "sample=1\n",
        "plot_embedding(X_embedded,start,stop,sample)"
      ],
      "execution_count": 83
    },
    {
      "cell_type": "markdown",
      "metadata": {
        "id": "97dbc19e-bfb9-4029-bc4b-ecc5aaebc8e7"
      },
      "source": [
        "### Exercise 1 \n",
        "\n",
        "Recreate the model above but add a dense layer with 500 neurons (using relu activation), a dense layer with 250 neurons (using relu activation), and a final layer for classification, then use the function ```display_metrics``` to plot the results.\n"
      ]
    },
    {
      "cell_type": "code",
      "metadata": {
        "colab": {
          "base_uri": "https://localhost:8080/",
          "height": 892
        },
        "id": "26474229-20c8-4dfd-9917-bcaab1afc792",
        "outputId": "70082367-8947-4417-a234-13e940b59775"
      },
      "outputs": [
        {
          "output_type": "stream",
          "name": "stdout",
          "text": [
            "Epoch 1/10\n",
            "667/667 [==============================] - 2s 3ms/step - loss: 0.2654 - acc: 0.8972 - val_loss: 0.5493 - val_acc: 0.7422\n",
            "Epoch 2/10\n",
            "667/667 [==============================] - 2s 4ms/step - loss: 0.2496 - acc: 0.9054 - val_loss: 0.5593 - val_acc: 0.7388\n",
            "Epoch 3/10\n",
            "667/667 [==============================] - 2s 2ms/step - loss: 0.2341 - acc: 0.9130 - val_loss: 0.5719 - val_acc: 0.7362\n",
            "Epoch 4/10\n",
            "667/667 [==============================] - 2s 2ms/step - loss: 0.2196 - acc: 0.9191 - val_loss: 0.5849 - val_acc: 0.7364\n",
            "Epoch 5/10\n",
            "667/667 [==============================] - 2s 2ms/step - loss: 0.2063 - acc: 0.9244 - val_loss: 0.5992 - val_acc: 0.7342\n",
            "Epoch 6/10\n",
            "667/667 [==============================] - 2s 2ms/step - loss: 0.1935 - acc: 0.9306 - val_loss: 0.6137 - val_acc: 0.7258\n",
            "Epoch 7/10\n",
            "667/667 [==============================] - 2s 3ms/step - loss: 0.1817 - acc: 0.9361 - val_loss: 0.6276 - val_acc: 0.7240\n",
            "Epoch 8/10\n",
            "667/667 [==============================] - 3s 4ms/step - loss: 0.1710 - acc: 0.9409 - val_loss: 0.6435 - val_acc: 0.7242\n",
            "Epoch 9/10\n",
            "667/667 [==============================] - 3s 4ms/step - loss: 0.1608 - acc: 0.9445 - val_loss: 0.6584 - val_acc: 0.7236\n",
            "Epoch 10/10\n",
            "667/667 [==============================] - 2s 3ms/step - loss: 0.1510 - acc: 0.9491 - val_loss: 0.6745 - val_acc: 0.7234\n"
          ]
        },
        {
          "output_type": "display_data",
          "data": {
            "text/plain": [
              "<Figure size 1200x600 with 2 Axes>"
            ],
            "image/png": "[encoded data removed]"
          },
          "metadata": {}
        }
      ],
      "source": [
        "model1 = Sequential()\n",
        "model1.add(Embedding(10000, 8, input_length=20))\n",
        "model1.add(Flatten())\n",
        "model1.add(Dense(500, activation='relu'))\n",
        "model1.add(Dense(250, activation='relu'))\n",
        "model1.add(Dense(1, activation='sigmoid'))\n",
        "model1.compile(optimizer='rmsprop', loss='binary_crossentropy', metrics=['acc'])\n",
        "history = model.fit(x_train, y_train, epochs=10, validation_split=0.2, batch_size=30)\n",
        "display_metrics(history)"
      ],
      "execution_count": 79
    },
    {
      "cell_type": "markdown",
      "metadata": {
        "id": "8b0fd9b8-c80f-44fd-8a0d-ff9e07ae100e"
      },
      "source": [
        "### Exercise 2 - Question: Does this model perform better then the last model? Why or why not?\n"
      ]
    },
    {
      "cell_type": "markdown",
      "source": [
        "## Ans : The second model suffers from over Overfitting"
      ],
      "metadata": {
        "id": "W87eHWKyhBG1"
      }
    },
    {
      "cell_type": "markdown",
      "metadata": {
        "id": "5bcd560f-953e-41ef-960e-229a062794ab"
      },
      "source": [
        "### Exercise 3 - Introduce L2 and dropout regulation to your model (there are many solutions, one is given here)\n"
      ]
    },
    {
      "cell_type": "code",
      "metadata": {
        "colab": {
          "base_uri": "https://localhost:8080/",
          "height": 1000
        },
        "id": "c50b77bc-10b0-4839-9b28-10f53200ca16",
        "outputId": "acb970cd-9342-4a5d-f4db-58c793c6c85d"
      },
      "outputs": [
        {
          "output_type": "stream",
          "name": "stdout",
          "text": [
            "Model: \"sequential_10\"\n",
            "_________________________________________________________________\n",
            " Layer (type)                Output Shape              Param #   \n",
            "=================================================================\n",
            " embedding_9 (Embedding)     (None, 20, 8)             80000     \n",
            "                                                                 \n",
            " flatten_7 (Flatten)         (None, 160)               0         \n",
            "                                                                 \n",
            " dense_14 (Dense)            (None, 500)               80500     \n",
            "                                                                 \n",
            " dropout_5 (Dropout)         (None, 500)               0         \n",
            "                                                                 \n",
            " dense_15 (Dense)            (None, 250)               125250    \n",
            "                                                                 \n",
            " dropout_6 (Dropout)         (None, 250)               0         \n",
            "                                                                 \n",
            " dense_16 (Dense)            (None, 1)                 251       \n",
            "                                                                 \n",
            "=================================================================\n",
            "Total params: 286,001\n",
            "Trainable params: 286,001\n",
            "Non-trainable params: 0\n",
            "_________________________________________________________________\n",
            "Epoch 1/10\n",
            "313/313 [==============================] - 4s 10ms/step - loss: 0.9360 - acc: 0.4976 - val_loss: 0.6933 - val_acc: 0.4938\n",
            "Epoch 2/10\n",
            "313/313 [==============================] - 4s 12ms/step - loss: 0.6932 - acc: 0.4949 - val_loss: 0.6932 - val_acc: 0.4938\n",
            "Epoch 3/10\n",
            "313/313 [==============================] - 4s 13ms/step - loss: 0.6932 - acc: 0.4999 - val_loss: 0.6931 - val_acc: 0.5062\n",
            "Epoch 4/10\n",
            "313/313 [==============================] - 3s 10ms/step - loss: 0.6932 - acc: 0.4987 - val_loss: 0.6932 - val_acc: 0.4938\n",
            "Epoch 5/10\n",
            "313/313 [==============================] - 3s 10ms/step - loss: 0.6932 - acc: 0.4978 - val_loss: 0.6933 - val_acc: 0.4938\n",
            "Epoch 6/10\n",
            "313/313 [==============================] - 4s 14ms/step - loss: 0.6932 - acc: 0.4999 - val_loss: 0.6933 - val_acc: 0.4938\n",
            "Epoch 7/10\n",
            "313/313 [==============================] - 3s 11ms/step - loss: 0.6932 - acc: 0.5014 - val_loss: 0.6932 - val_acc: 0.4938\n",
            "Epoch 8/10\n",
            "313/313 [==============================] - 3s 10ms/step - loss: 0.6932 - acc: 0.5004 - val_loss: 0.6932 - val_acc: 0.4938\n",
            "Epoch 9/10\n",
            "313/313 [==============================] - 3s 10ms/step - loss: 0.6932 - acc: 0.5016 - val_loss: 0.6931 - val_acc: 0.5062\n",
            "Epoch 10/10\n",
            "313/313 [==============================] - 4s 14ms/step - loss: 0.6932 - acc: 0.4987 - val_loss: 0.6932 - val_acc: 0.4938\n"
          ]
        },
        {
          "output_type": "display_data",
          "data": {
            "text/plain": [
              "<Figure size 1200x600 with 2 Axes>"
            ],
            "image/png": "[encoded data removed]"
          },
          "metadata": {}
        }
      ],
      "source": [
        "model = Sequential()\n",
        "model.add(Embedding(max_features, 8, input_length=maxlen))\n",
        "model.add(Flatten())\n",
        "model.add(Dense(500, kernel_initializer='normal', activation='relu',kernel_regularizer=regularizers.L2(l2=5e-3)))\n",
        "model.add(Dropout(.4))\n",
        "\n",
        "model.add(Dense(250, kernel_initializer='normal', activation='relu',kernel_regularizer=regularizers.L2(l2=5e-3)))\n",
        "model.add(Dropout(.3))\n",
        "model.add(Dense(1, activation='sigmoid'))\n",
        "model.compile(optimizer='rmsprop', loss='binary_crossentropy', metrics=['acc']) \n",
        "model.summary()\n",
        "\n",
        "history = model.fit(x_train, y_train, epochs=10,batch_size=64, validation_split=0.2)\n",
        "display_metrics(history)"
      ],
      "execution_count": 89
    },
    {
      "cell_type": "markdown",
      "metadata": {
        "id": "139202c7-a00a-48a7-92fe-4217be3b2dfc"
      },
      "source": [
        "## Congratulations! You have completed this lab!\n"
      ]
    }
  ],
  "metadata": {
    "kernelspec": {
      "display_name": "Python",
      "language": "python",
      "name": "conda-env-python-py"
    },
    "language_info": {
      "name": ""
    },
    "colab": {
      "provenance": []
    }
  },
  "nbformat": 4,
  "nbformat_minor": 0
}